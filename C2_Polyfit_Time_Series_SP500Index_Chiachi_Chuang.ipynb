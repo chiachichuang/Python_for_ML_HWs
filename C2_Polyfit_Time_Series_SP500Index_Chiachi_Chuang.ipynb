{
 "cells": [
  {
   "cell_type": "markdown",
   "metadata": {},
   "source": [
    "SP500 Index\n",
    "01/02/2013~12/06/2018\n",
    "'Date', 'Open', 'High', 'Low', 'Close', 'Adj Close', 'Volume', '', ''\n",
    "only take date, and Adj Close\n",
    "2013-01-02 is the base date"
   ]
  },
  {
   "cell_type": "code",
   "execution_count": 1,
   "metadata": {},
   "outputs": [],
   "source": [
    "import numpy as np\n",
    "import pandas as pd\n",
    "import scipy.stats as stats\n",
    "import matplotlib.pyplot as plt\n",
    "import sklearn\n",
    "%matplotlib inline"
   ]
  },
  {
   "cell_type": "code",
   "execution_count": 2,
   "metadata": {},
   "outputs": [],
   "source": [
    "## Reading csv files\n",
    "def read_file(filename):\n",
    "    file_open = open(filename,\"r\")\n",
    "    data_array = []\n",
    "    for line in iter(file_open):\n",
    "        if line.find(\"Date\") != -1:\n",
    "            continue\n",
    "        line_no_newline = line.rstrip()\n",
    "        line_split = line_no_newline.split(\",\")\n",
    "        #time1 = int(line_split[0])\n",
    "        time1 = line_split[0]\n",
    "        spidx = line_split[5]\n",
    "        #spidx = float(line_split[5])\n",
    "        if len(time1)>0 and len(spidx)>0:\n",
    "            data_array.append([time1,spidx])\n",
    "        #data_array.append(line_split)\n",
    "    return data_array"
   ]
  },
  {
   "cell_type": "code",
   "execution_count": 3,
   "metadata": {},
   "outputs": [],
   "source": [
    "time_sp500index_data = read_file(\"GSPC12062018.csv\")"
   ]
  },
  {
   "cell_type": "code",
   "execution_count": 5,
   "metadata": {},
   "outputs": [
    {
     "data": {
      "text/plain": [
       "[['2013-01-02', '1462.420044'],\n",
       " ['2013-01-03', '1459.369995'],\n",
       " ['2013-01-04', '1466.469971'],\n",
       " ['2013-01-07', '1461.890015']]"
      ]
     },
     "execution_count": 5,
     "metadata": {},
     "output_type": "execute_result"
    }
   ],
   "source": [
    "time_sp500index_data[0:4]"
   ]
  },
  {
   "cell_type": "code",
   "execution_count": 6,
   "metadata": {},
   "outputs": [],
   "source": [
    "rawXY=np.array(time_sp500index_data)"
   ]
  },
  {
   "cell_type": "code",
   "execution_count": 7,
   "metadata": {},
   "outputs": [
    {
     "name": "stdout",
     "output_type": "stream",
     "text": [
      "[['2013-01-02' '1462.420044']\n",
      " ['2013-01-03' '1459.369995']]\n"
     ]
    }
   ],
   "source": [
    "print(rawXY[:2])"
   ]
  },
  {
   "cell_type": "code",
   "execution_count": 8,
   "metadata": {},
   "outputs": [],
   "source": [
    "rawX=rawXY[:,0]"
   ]
  },
  {
   "cell_type": "code",
   "execution_count": 9,
   "metadata": {},
   "outputs": [
    {
     "name": "stdout",
     "output_type": "stream",
     "text": [
      "['2013-01-02' '2013-01-03' '2013-01-04' ... '2017-12-27' '2017-12-28'\n",
      " '2017-12-29']\n",
      "1259\n",
      "2013-01-03\n"
     ]
    }
   ],
   "source": [
    "print(rawX)\n",
    "print(len(rawX))\n",
    "print(rawX[1])\n",
    "#2013-01-02 is the base date"
   ]
  },
  {
   "cell_type": "code",
   "execution_count": 10,
   "metadata": {},
   "outputs": [],
   "source": [
    "#np.busday_count(np.datetime64('2011-07-11'), np.datetime64('2011-07-18'))\n",
    "modX=np.array([np.busday_count(np.datetime64('2013-01-02'), np.datetime64(d)) for d in rawX])"
   ]
  },
  {
   "cell_type": "code",
   "execution_count": 11,
   "metadata": {},
   "outputs": [
    {
     "name": "stdout",
     "output_type": "stream",
     "text": [
      "[   0    1    2 ... 1300 1301 1302]\n",
      "1259\n",
      "1\n",
      "[ 0  1  2  3  4  5  6  7  8  9 10 11 12 14 15 16 17 18 19 20 21 22 23 24\n",
      " 25 26 27 28 29 30 31 32 34 35 36]\n"
     ]
    }
   ],
   "source": [
    "print(modX)\n",
    "print(len(modX))\n",
    "print(modX[1])\n",
    "print(modX[:35])"
   ]
  },
  {
   "cell_type": "code",
   "execution_count": 12,
   "metadata": {},
   "outputs": [],
   "source": [
    "rawY=rawXY[:,1]\n",
    "modY=rawY.astype(np.float)"
   ]
  },
  {
   "cell_type": "code",
   "execution_count": 13,
   "metadata": {},
   "outputs": [
    {
     "name": "stdout",
     "output_type": "stream",
     "text": [
      "[1462.420044 1459.369995 1466.469971 ... 2682.620117 2687.540039\n",
      " 2673.610107]\n",
      "1259\n",
      "1459.369995\n",
      "<class 'numpy.float64'>\n"
     ]
    }
   ],
   "source": [
    "print(modY)\n",
    "print(len(modY))\n",
    "print(modY[1])\n",
    "print(type(modY[1]))"
   ]
  },
  {
   "cell_type": "code",
   "execution_count": 14,
   "metadata": {},
   "outputs": [
    {
     "name": "stdout",
     "output_type": "stream",
     "text": [
      "Coeff  [ 6.64880772e-10  4.88067040e-08 -1.97829117e-03  2.01625657e+00\n",
      "  1.43176410e+03]\n",
      "           4             3            2\n",
      "6.649e-10 t + 4.881e-08 t - 0.001978 t + 2.016 t + 1432\n"
     ]
    }
   ],
   "source": [
    "# Polynomial fit using Numpy\n",
    "Order = 4\n",
    "fit = np.polyfit(modX,modY,Order)\n",
    "print(\"Coeff \", fit)\n",
    "fit1 = np.poly1d(fit,variable=\"t\")\n",
    "print(fit1)\n",
    "y1 = fit1(modX)"
   ]
  },
  {
   "cell_type": "code",
   "execution_count": 15,
   "metadata": {},
   "outputs": [],
   "source": [
    "# Using polynomial equation, find the value of I for time interval in 1 day\n",
    "nums = []\n",
    "y_calculated = []\n",
    "for val in range(len(modX)):\n",
    "    nums.append(val)\n",
    "    y_calculated.append(fit1(val))  "
   ]
  },
  {
   "cell_type": "code",
   "execution_count": 16,
   "metadata": {},
   "outputs": [
    {
     "name": "stdout",
     "output_type": "stream",
     "text": [
      "[1431.764102820074, 1433.7783811481838, 1435.7887031961004, 1437.7950692805998, 1439.7974797344148]\n",
      "1259\n",
      "1259\n"
     ]
    }
   ],
   "source": [
    "# print to check\n",
    "print(y_calculated[0:5])\n",
    "print(len(y_calculated))\n",
    "print(len(modX))"
   ]
  },
  {
   "cell_type": "code",
   "execution_count": 17,
   "metadata": {},
   "outputs": [
    {
     "name": "stdout",
     "output_type": "stream",
     "text": [
      "1302 1457.150024 2690.159912\n"
     ]
    },
    {
     "data": {
      "image/png": "[encoded data removed]",
      "text/plain": [
       "<Figure size 432x288 with 1 Axes>"
      ]
     },
     "metadata": {},
     "output_type": "display_data"
    }
   ],
   "source": [
    "plt.plot(modX,modY,'ro')\n",
    "plt.plot(nums,y_calculated,'b+')\n",
    "maxt=modX.max()\n",
    "minp=modY.min()\n",
    "maxp=modY.max()\n",
    "print(maxt,minp,maxp)\n",
    "plt.axis([0,maxt,minp,maxp])\n",
    "plt.show()"
   ]
  },
  {
   "cell_type": "code",
   "execution_count": 18,
   "metadata": {},
   "outputs": [
    {
     "name": "stdout",
     "output_type": "stream",
     "text": [
      "4655.863102880233\n",
      "10948.250510486478\n"
     ]
    }
   ],
   "source": [
    "# OK, now predict values for 1667 (1 year later) and 2132 (2 years later from 12/06/2018)\n",
    "print(fit1(1667))\n",
    "print(fit1(2132))"
   ]
  },
  {
   "cell_type": "code",
   "execution_count": 19,
   "metadata": {},
   "outputs": [
    {
     "data": {
      "image/png": "[encoded data removed]",
      "text/plain": [
       "<Figure size 432x288 with 1 Axes>"
      ]
     },
     "metadata": {},
     "output_type": "display_data"
    }
   ],
   "source": [
    "# Zoom in to see details\n",
    "plt.plot(modX,modY,'ro')\n",
    "plt.plot(nums,y_calculated,'b+')\n",
    "plt.axis([800,1302,1800,maxp])\n",
    "plt.show()"
   ]
  },
  {
   "cell_type": "code",
   "execution_count": null,
   "metadata": {},
   "outputs": [],
   "source": []
  },
  {
   "cell_type": "code",
   "execution_count": null,
   "metadata": {},
   "outputs": [],
   "source": []
  },
  {
   "cell_type": "code",
   "execution_count": 20,
   "metadata": {},
   "outputs": [],
   "source": [
    "# search other model or fit: google scikit log fit"
   ]
  }
 ],
 "metadata": {
  "anaconda-cloud": {},
  "kernelspec": {
   "display_name": "Python 3",
   "language": "python",
   "name": "python3"
  },
  "language_info": {
   "codemirror_mode": {
    "name": "ipython",
    "version": 3
   },
   "file_extension": ".py",
   "mimetype": "text/x-python",
   "name": "python",
   "nbconvert_exporter": "python",
   "pygments_lexer": "ipython3",
   "version": "3.6.5"
  }
 },
 "nbformat": 4,
 "nbformat_minor": 2
}
