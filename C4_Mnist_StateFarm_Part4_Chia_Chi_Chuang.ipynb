{
 "cells": [
  {
   "cell_type": "markdown",
   "metadata": {},
   "source": [
    "C4 MNIST HW Part 4: Try different classification without PCA\n",
    "\n",
    "Data Source: https://www.kaggle.com/c/state-farm-distracted-driver-detection\n",
    "\n",
    "State Farm Distracted Driver Images\n",
    "\n",
    "10 different labels/categories for each images\n",
    "\n",
    "Each color image is 640*480 22424 images in training dataset"
   ]
  },
  {
   "cell_type": "code",
   "execution_count": 1,
   "metadata": {},
   "outputs": [],
   "source": [
    "import pandas as pd\n",
    "import numpy as np\n",
    "import matplotlib.pyplot as plt\n",
    "%matplotlib inline"
   ]
  },
  {
   "cell_type": "code",
   "execution_count": 2,
   "metadata": {},
   "outputs": [],
   "source": [
    "# PIL => Python Imaging Library\n",
    "from PIL import Image"
   ]
  },
  {
   "cell_type": "code",
   "execution_count": 13,
   "metadata": {},
   "outputs": [],
   "source": [
    "import os"
   ]
  },
  {
   "cell_type": "code",
   "execution_count": 3,
   "metadata": {},
   "outputs": [],
   "source": [
    "from sklearn.model_selection import train_test_split"
   ]
  },
  {
   "cell_type": "code",
   "execution_count": 4,
   "metadata": {},
   "outputs": [],
   "source": [
    "def readcsvfile(filename):\n",
    "    file_open=open(filename,'r')\n",
    "    lines_data=[]\n",
    "    for line in iter(file_open):\n",
    "        line=line.rstrip()\n",
    "        lines_data.append(line.split(','))\n",
    "    return lines_data"
   ]
  },
  {
   "cell_type": "code",
   "execution_count": 5,
   "metadata": {},
   "outputs": [],
   "source": [
    "def hasThisFile(filename):\n",
    "    return os.path.isfile(filename)"
   ]
  },
  {
   "cell_type": "code",
   "execution_count": 6,
   "metadata": {},
   "outputs": [],
   "source": [
    "def getJPGfileData(filename):\n",
    "    if hasThisFile(filename):\n",
    "        img=Image.open(filename)\n",
    "        img=img.convert('L')\n",
    "        return list(img.getdata())"
   ]
  },
  {
   "cell_type": "code",
   "execution_count": 7,
   "metadata": {},
   "outputs": [],
   "source": [
    "dtsinfo=readcsvfile('sfdd_train_data_rest_fv2.csv')"
   ]
  },
  {
   "cell_type": "code",
   "execution_count": 8,
   "metadata": {},
   "outputs": [],
   "source": [
    "train1, train2 = train_test_split(dtsinfo, test_size=0.95)"
   ]
  },
  {
   "cell_type": "code",
   "execution_count": 9,
   "metadata": {},
   "outputs": [],
   "source": [
    "trainImgFileDir='../dataSetImage/stateFarm_distractedDriver_all/imgs/train/'"
   ]
  },
  {
   "cell_type": "code",
   "execution_count": 10,
   "metadata": {},
   "outputs": [],
   "source": [
    "imgsz=640*480\n",
    "trainsz=len(train1)"
   ]
  },
  {
   "cell_type": "code",
   "execution_count": 11,
   "metadata": {},
   "outputs": [],
   "source": [
    "XTrain1NP=np.empty((trainsz,imgsz),dtype=np.int8)"
   ]
  },
  {
   "cell_type": "code",
   "execution_count": 14,
   "metadata": {},
   "outputs": [],
   "source": [
    "i=0\n",
    "for itm in train1:\n",
    "    XTrain1NP[i].flat[:]=getJPGfileData(trainImgFileDir+itm[1]+'/'+itm[2])\n",
    "    i+=1"
   ]
  },
  {
   "cell_type": "code",
   "execution_count": 15,
   "metadata": {},
   "outputs": [],
   "source": [
    "Ytrain1=[]"
   ]
  },
  {
   "cell_type": "code",
   "execution_count": 16,
   "metadata": {},
   "outputs": [],
   "source": [
    "for itm in train1:\n",
    "    Ytrain1.append(int(itm[1][1]))"
   ]
  },
  {
   "cell_type": "code",
   "execution_count": 17,
   "metadata": {},
   "outputs": [],
   "source": [
    "Ytrain1NP=np.array(Ytrain1)"
   ]
  },
  {
   "cell_type": "code",
   "execution_count": 18,
   "metadata": {},
   "outputs": [],
   "source": [
    "train3, train4 = train_test_split(train2, test_size=0.95)\n",
    "XTrain3NP=np.empty((len(train3),imgsz),dtype=np.int8)\n",
    "i=0\n",
    "for itm in train3:\n",
    "    XTrain3NP[i].flat[:]=getJPGfileData(trainImgFileDir+itm[1]+'/'+itm[2])\n",
    "    i+=1"
   ]
  },
  {
   "cell_type": "code",
   "execution_count": 19,
   "metadata": {},
   "outputs": [],
   "source": [
    "fif=open('sfdd_train_data_rest_fv3.csv','w')\n",
    "for x in train4:\n",
    "    fif.write(','.join(x)+'\\n')\n",
    "fif.close() "
   ]
  },
  {
   "cell_type": "code",
   "execution_count": 20,
   "metadata": {},
   "outputs": [],
   "source": [
    "Ytrain3=[]\n",
    "for itm in train3:\n",
    "    Ytrain3.append(int(itm[1][1]))\n",
    "Ytrain3NP=np.array(Ytrain3)"
   ]
  },
  {
   "cell_type": "code",
   "execution_count": 21,
   "metadata": {},
   "outputs": [],
   "source": [
    "import sklearn.metrics as metrics"
   ]
  },
  {
   "cell_type": "code",
   "execution_count": 22,
   "metadata": {},
   "outputs": [
    {
     "name": "stdout",
     "output_type": "stream",
     "text": [
      "DecisionTreeClassifier(class_weight=None, criterion='gini', max_depth=None,\n",
      "            max_features=None, max_leaf_nodes=None,\n",
      "            min_impurity_decrease=0.0, min_impurity_split=None,\n",
      "            min_samples_leaf=1, min_samples_split=2,\n",
      "            min_weight_fraction_leaf=0.0, presort=False, random_state=None,\n",
      "            splitter='best')\n",
      "             precision    recall  f1-score   support\n",
      "\n",
      "          0       0.51      0.46      0.48        94\n",
      "          1       0.38      0.43      0.41        81\n",
      "          2       0.43      0.44      0.43        91\n",
      "          3       0.30      0.35      0.32        72\n",
      "          4       0.38      0.35      0.36        80\n",
      "          5       0.66      0.56      0.60       102\n",
      "          6       0.38      0.39      0.38        84\n",
      "          7       0.52      0.58      0.55        78\n",
      "          8       0.53      0.47      0.50        60\n",
      "          9       0.34      0.35      0.35        82\n",
      "\n",
      "avg / total       0.45      0.44      0.44       824\n",
      "\n",
      "[[43  3 14 11  6  1  6  4  1  5]\n",
      " [ 5 35  8  9  4  3  5  5  2  5]\n",
      " [ 2 12 40  6  6  3  4  8  6  4]\n",
      " [ 6  6 10 25  8  1  5  1  2  8]\n",
      " [10  3  2  4 28  2  7  8  2 14]\n",
      " [ 4  7  1  8  5 57  7  3  5  5]\n",
      " [ 5  5  7  6  2 10 33  4  4  8]\n",
      " [ 3  6  6  4  1  1  5 45  2  5]\n",
      " [ 3  6  2  3  5  3  7  1 28  2]\n",
      " [ 4  8  3  6  9  6  9  7  1 29]]\n"
     ]
    }
   ],
   "source": [
    "# Decision Tree Classifier\n",
    "from sklearn.tree import DecisionTreeClassifier\n",
    "model = DecisionTreeClassifier()\n",
    "model.fit(XTrain1NP,Ytrain1NP)\n",
    "print(model)\n",
    "# make predictions\n",
    "expected = Ytrain3NP\n",
    "predicted = model.predict(XTrain3NP)\n",
    "# summarize the fit of the model\n",
    "print(metrics.classification_report(expected, predicted))\n",
    "print(metrics.confusion_matrix(expected, predicted))"
   ]
  },
  {
   "cell_type": "code",
   "execution_count": 23,
   "metadata": {},
   "outputs": [
    {
     "name": "stdout",
     "output_type": "stream",
     "text": [
      "GaussianNB(priors=None)\n",
      "             precision    recall  f1-score   support\n",
      "\n",
      "          0       0.44      0.50      0.47        94\n",
      "          1       0.27      0.25      0.26        81\n",
      "          2       0.19      0.19      0.19        91\n",
      "          3       0.17      0.36      0.23        72\n",
      "          4       0.35      0.33      0.34        80\n",
      "          5       0.57      0.48      0.52       102\n",
      "          6       0.28      0.23      0.25        84\n",
      "          7       0.56      0.47      0.51        78\n",
      "          8       0.46      0.38      0.42        60\n",
      "          9       0.57      0.37      0.44        82\n",
      "\n",
      "avg / total       0.39      0.36      0.37       824\n",
      "\n",
      "[[47  0  7 17  5  8  5  1  1  3]\n",
      " [13 20  9 18  1  4  9  3  2  2]\n",
      " [ 7  9 17 20  2  5 12 10  4  5]\n",
      " [ 6  2  9 26 18  5  0  1  3  2]\n",
      " [13  1 10 20 26  1  2  4  0  3]\n",
      " [ 3  3  7 24  5 49  6  1  4  0]\n",
      " [ 4 16 12 14  8  5 19  1  4  1]\n",
      " [ 1  9 11  4  4  1  6 37  3  2]\n",
      " [ 4 10  2  4  2  3  2  5 23  5]\n",
      " [ 9  4  5  9  3  5  8  3  6 30]]\n"
     ]
    }
   ],
   "source": [
    "# Naive Bayes Classification\n",
    "from sklearn.naive_bayes import GaussianNB\n",
    "model = GaussianNB()\n",
    "model.fit(XTrain1NP,Ytrain1NP)\n",
    "print(model)\n",
    "# make predictions\n",
    "expected = Ytrain3NP\n",
    "predicted = model.predict(XTrain3NP)\n",
    "# summarize the fit of the model\n",
    "print(metrics.classification_report(expected, predicted))\n",
    "print(metrics.confusion_matrix(expected, predicted))"
   ]
  },
  {
   "cell_type": "code",
   "execution_count": 24,
   "metadata": {},
   "outputs": [
    {
     "name": "stdout",
     "output_type": "stream",
     "text": [
      "KNeighborsClassifier(algorithm='auto', leaf_size=30, metric='minkowski',\n",
      "           metric_params=None, n_jobs=1, n_neighbors=5, p=2,\n",
      "           weights='uniform')\n",
      "             precision    recall  f1-score   support\n",
      "\n",
      "          0       0.56      0.71      0.63        94\n",
      "          1       0.47      0.79      0.59        81\n",
      "          2       0.45      0.58      0.51        91\n",
      "          3       0.38      0.44      0.41        72\n",
      "          4       0.70      0.57      0.63        80\n",
      "          5       0.82      0.58      0.68       102\n",
      "          6       0.49      0.54      0.51        84\n",
      "          7       0.79      0.54      0.64        78\n",
      "          8       0.57      0.40      0.47        60\n",
      "          9       0.93      0.49      0.64        82\n",
      "\n",
      "avg / total       0.62      0.57      0.58       824\n",
      "\n",
      "[[67  9  8  6  1  0  3  0  0  0]\n",
      " [ 6 64  7  2  0  0  1  1  0  0]\n",
      " [ 5 18 53  6  0  1  7  0  1  0]\n",
      " [ 5  9 11 32 13  0  1  0  1  0]\n",
      " [ 6  3  5 13 46  0  3  1  3  0]\n",
      " [10  6  5 11  1 59 10  0  0  0]\n",
      " [ 3  8 12  1  1 11 45  0  2  1]\n",
      " [ 1  4  9  5  2  0  7 42  8  0]\n",
      " [ 3  7  3  4  2  0  9  6 24  2]\n",
      " [14  7  4  4  0  1  6  3  3 40]]\n"
     ]
    }
   ],
   "source": [
    "# Knn- classification\n",
    "# k-Nearest Neighbor Classification\n",
    "from sklearn.neighbors import KNeighborsClassifier\n",
    "model = KNeighborsClassifier()\n",
    "model.fit(XTrain1NP,Ytrain1NP)\n",
    "print(model)\n",
    "# make predictions\n",
    "expected = Ytrain3NP\n",
    "predicted = model.predict(XTrain3NP)\n",
    "# summarize the fit of the model\n",
    "print(metrics.classification_report(expected, predicted))\n",
    "print(metrics.confusion_matrix(expected, predicted))"
   ]
  },
  {
   "cell_type": "code",
   "execution_count": 25,
   "metadata": {},
   "outputs": [
    {
     "name": "stdout",
     "output_type": "stream",
     "text": [
      "LogisticRegression(C=1.0, class_weight=None, dual=False, fit_intercept=True,\n",
      "          intercept_scaling=1, max_iter=100, multi_class='ovr', n_jobs=1,\n",
      "          penalty='l2', random_state=10, solver='lbfgs', tol=0.0001,\n",
      "          verbose=0, warm_start=False)\n",
      "             precision    recall  f1-score   support\n",
      "\n",
      "          0       0.74      0.78      0.76        94\n",
      "          1       0.63      0.88      0.74        81\n",
      "          2       0.85      0.76      0.80        91\n",
      "          3       0.74      0.83      0.78        72\n",
      "          4       0.77      0.79      0.78        80\n",
      "          5       0.87      0.80      0.84       102\n",
      "          6       0.81      0.70      0.75        84\n",
      "          7       0.85      0.87      0.86        78\n",
      "          8       0.83      0.72      0.77        60\n",
      "          9       0.87      0.74      0.80        82\n",
      "\n",
      "avg / total       0.80      0.79      0.79       824\n",
      "\n",
      "[[73  9  2  3  3  1  1  1  0  1]\n",
      " [ 1 71  2  2  0  0  4  1  0  0]\n",
      " [ 0 10 69  3  0  0  3  1  5  0]\n",
      " [ 3  1  1 60  6  0  0  0  0  1]\n",
      " [ 2  3  3  4 63  4  1  0  0  0]\n",
      " [ 2  6  1  4  2 82  1  3  0  1]\n",
      " [ 3  7  2  3  3  3 59  2  2  0]\n",
      " [ 0  1  0  0  1  0  3 68  2  3]\n",
      " [ 2  3  1  1  3  0  0  4 43  3]\n",
      " [13  1  0  1  1  4  1  0  0 61]]\n"
     ]
    }
   ],
   "source": [
    "# Logistic Regression\n",
    "from sklearn.linear_model import LogisticRegression\n",
    "model = LogisticRegression(solver = 'lbfgs',random_state=10)\n",
    "model.fit(XTrain1NP,Ytrain1NP)\n",
    "print(model)\n",
    "# make predictions\n",
    "expected = Ytrain3NP\n",
    "predicted = model.predict(XTrain3NP)\n",
    "# summarize the fit of the model\n",
    "print(metrics.classification_report(expected, predicted))\n",
    "print(metrics.confusion_matrix(expected, predicted))"
   ]
  },
  {
   "cell_type": "code",
   "execution_count": null,
   "metadata": {},
   "outputs": [],
   "source": []
  },
  {
   "cell_type": "code",
   "execution_count": null,
   "metadata": {},
   "outputs": [],
   "source": []
  }
 ],
 "metadata": {
  "kernelspec": {
   "display_name": "Python 3",
   "language": "python",
   "name": "python3"
  },
  "language_info": {
   "codemirror_mode": {
    "name": "ipython",
    "version": 3
   },
   "file_extension": ".py",
   "mimetype": "text/x-python",
   "name": "python",
   "nbconvert_exporter": "python",
   "pygments_lexer": "ipython3",
   "version": "3.7.0"
  }
 },
 "nbformat": 4,
 "nbformat_minor": 2
}
