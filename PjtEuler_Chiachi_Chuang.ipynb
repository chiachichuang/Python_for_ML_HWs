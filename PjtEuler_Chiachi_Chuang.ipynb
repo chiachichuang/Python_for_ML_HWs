{
 "cells": [
  {
   "cell_type": "markdown",
   "metadata": {},
   "source": [
    "# Project Euler QAs\n",
    "\n",
    "https://projecteuler.net/archives\n"
   ]
  },
  {
   "cell_type": "markdown",
   "metadata": {},
   "source": [
    "#1\tMultiples of 3 and 5"
   ]
  },
  {
   "cell_type": "code",
   "execution_count": 1,
   "metadata": {},
   "outputs": [
    {
     "name": "stdout",
     "output_type": "stream",
     "text": [
      "233168\n"
     ]
    }
   ],
   "source": [
    "myans=0\n",
    "for i in range(1,1000):\n",
    "    if i%3==0 or i%5==0:\n",
    "        myans+=i\n",
    "print(myans)"
   ]
  },
  {
   "cell_type": "markdown",
   "metadata": {},
   "source": [
    "#2\tEven Fibonacci numbers"
   ]
  },
  {
   "cell_type": "code",
   "execution_count": 2,
   "metadata": {},
   "outputs": [
    {
     "name": "stdout",
     "output_type": "stream",
     "text": [
      "4613732\n"
     ]
    }
   ],
   "source": [
    "fib0=1\n",
    "fib1=2\n",
    "evenVsum=2\n",
    "#for i in range(4,21,3):    \n",
    "for i in range(4,4000001,3):   \n",
    "    fib0=fib0+fib1\n",
    "    fib1=fib0+fib1\n",
    "    fib0=fib0+fib1\n",
    "    if fib0>4000000:\n",
    "        break\n",
    "    evenVsum+=fib0\n",
    "    tp=fib1\n",
    "    fib1=fib0\n",
    "    fib0=tp\n",
    "print(evenVsum)\n",
    "# ans is 14328 if it's 2-21"
   ]
  },
  {
   "cell_type": "markdown",
   "metadata": {},
   "source": [
    "#3\tLargest prime factor"
   ]
  },
  {
   "cell_type": "code",
   "execution_count": 3,
   "metadata": {},
   "outputs": [
    {
     "name": "stdout",
     "output_type": "stream",
     "text": [
      "6857\n"
     ]
    }
   ],
   "source": [
    "def isp(n):\n",
    "    if n in prmlst:\n",
    "        return True\n",
    "    nsqrt=int(pow(n,0.5))+1\n",
    "    for x in range(2,nsqrt):\n",
    "        if n%x==0:\n",
    "            return False\n",
    "    #print(\"add p:\",n)\n",
    "    prmlst.append(n)\n",
    "    return True\n",
    "    \n",
    "iptn=600851475143\n",
    "#iptn=13195\n",
    "nn=iptn\n",
    "nnsqrt=int(pow(iptn,0.5))+1\n",
    "prmlst=[2,3,5,7,11,13,17,19,23,29,31,37]\n",
    "fdpm=0\n",
    "for x in range(2,nnsqrt):\n",
    "    if nn%x==0:\n",
    "        if isp(x) and x>fdpm:\n",
    "            fdpm=x\n",
    "        nn2=int(nn%x)\n",
    "        if isp(nn2) and nn2>fdpm:\n",
    "            fdpm=nn2\n",
    "myans=fdpm\n",
    "print(myans)"
   ]
  },
  {
   "cell_type": "markdown",
   "metadata": {},
   "source": [
    "#4\tLargest palindrome product"
   ]
  },
  {
   "cell_type": "code",
   "execution_count": 4,
   "metadata": {},
   "outputs": [
    {
     "name": "stdout",
     "output_type": "stream",
     "text": [
      "993 913\n",
      "906609\n"
     ]
    }
   ],
   "source": [
    "found=False\n",
    "myans=None\n",
    "for nn in range(2,1800):\n",
    "    bsnum=1000000-1000*nn\n",
    "    for pn in range(1,(nn//2)+1):\n",
    "        nnstr1=str(bsnum+pn*(nn-pn))\n",
    "        strsz=len(nnstr1)\n",
    "        matchcount=0\n",
    "        for ci in range(strsz//2):\n",
    "            if nnstr1[ci]!=nnstr1[strsz-1-ci]:\n",
    "                break\n",
    "            else:\n",
    "                matchcount+=1\n",
    "        if matchcount>=(strsz//2):\n",
    "            print(1000-pn,1000-nn+pn)\n",
    "            found=True\n",
    "            myans=int(nnstr1)\n",
    "            break\n",
    "    if found:\n",
    "        break\n",
    "print(myans)"
   ]
  },
  {
   "cell_type": "markdown",
   "metadata": {},
   "source": [
    "#5\tSmallest multiple"
   ]
  },
  {
   "cell_type": "code",
   "execution_count": 5,
   "metadata": {},
   "outputs": [
    {
     "name": "stdout",
     "output_type": "stream",
     "text": [
      "232792560\n"
     ]
    }
   ],
   "source": [
    "prmlst=[2,3,5,7,11,13,17,19]\n",
    "myans=2520\n",
    "\n",
    "for i in range(11,21):\n",
    "    if i in prmlst:\n",
    "        myans*=i\n",
    "    else:\n",
    "        tpn=myans\n",
    "        tplst=[]\n",
    "        while i!=1:\n",
    "            for p in prmlst[:4]:             \n",
    "                while i%p==0 and i!=1:\n",
    "                    i=int(i//p)\n",
    "                    tplst.append(p)\n",
    "                if i==1:\n",
    "                    break\n",
    "        for t in tplst:\n",
    "            if tpn%t!=0:\n",
    "                myans*=t\n",
    "            else:\n",
    "                tpn=int(tpn//t)\n",
    "print(myans)"
   ]
  },
  {
   "cell_type": "markdown",
   "metadata": {},
   "source": [
    "#6\tSum square difference"
   ]
  },
  {
   "cell_type": "code",
   "execution_count": 6,
   "metadata": {},
   "outputs": [
    {
     "name": "stdout",
     "output_type": "stream",
     "text": [
      "25164150\n"
     ]
    }
   ],
   "source": [
    "n1=0\n",
    "n2=0\n",
    "for i in range(1,101):\n",
    "    n1+=i*i\n",
    "    n2+=i\n",
    "n2=n2*n2\n",
    "myans=n2-n1\n",
    "print(myans)"
   ]
  },
  {
   "cell_type": "code",
   "execution_count": null,
   "metadata": {},
   "outputs": [],
   "source": []
  }
 ],
 "metadata": {
  "kernelspec": {
   "display_name": "Python 3",
   "language": "python",
   "name": "python3"
  },
  "language_info": {
   "codemirror_mode": {
    "name": "ipython",
    "version": 3
   },
   "file_extension": ".py",
   "mimetype": "text/x-python",
   "name": "python",
   "nbconvert_exporter": "python",
   "pygments_lexer": "ipython3",
   "version": "3.6.5"
  }
 },
 "nbformat": 4,
 "nbformat_minor": 2
}
