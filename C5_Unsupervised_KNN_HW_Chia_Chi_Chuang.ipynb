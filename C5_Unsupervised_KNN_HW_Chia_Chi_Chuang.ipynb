{
 "cells": [
  {
   "cell_type": "markdown",
   "metadata": {},
   "source": []
  },
  {
   "cell_type": "code",
   "execution_count": 1,
   "metadata": {},
   "outputs": [],
   "source": [
    "import pandas as pd\n",
    "import numpy as np\n",
    "import matplotlib.pyplot as plt\n",
    "%matplotlib inline"
   ]
  },
  {
   "cell_type": "code",
   "execution_count": 2,
   "metadata": {},
   "outputs": [],
   "source": [
    "def readFile(filename):\n",
    "    contents=[]\n",
    "    file1=open(filename,'r')\n",
    "    for line in iter(file1):\n",
    "        line=line.strip()\n",
    "        contents.append(line.split(','))\n",
    "    return contents"
   ]
  },
  {
   "cell_type": "code",
   "execution_count": 3,
   "metadata": {},
   "outputs": [],
   "source": [
    "trainDS=readFile('../dataSet/SPECT/SPECT.train')\n",
    "testDS=readFile('../dataSet/SPECT/SPECT.test')"
   ]
  },
  {
   "cell_type": "code",
   "execution_count": 60,
   "metadata": {},
   "outputs": [],
   "source": [
    "datasetTrain = np.array(trainDS)\n",
    "Xtp = datasetTrain[:,1:]\n",
    "Ytp = datasetTrain[:,0]\n",
    "Xtrain = Xtp.astype(np.int)\n",
    "Ytrain = Ytp.astype(np.int) # original data:0 normal, but cluster marks it as 1, therefore change 1 to 0, and 0 to 1"
   ]
  },
  {
   "cell_type": "code",
   "execution_count": 61,
   "metadata": {},
   "outputs": [],
   "source": [
    "datasetTest = np.array(testDS)\n",
    "Xtp = datasetTest[:,1:]\n",
    "Ytp = datasetTest[:,0]\n",
    "Xtest = Xtp.astype(np.int)\n",
    "Ytest = Ytp.astype(np.int)"
   ]
  },
  {
   "cell_type": "code",
   "execution_count": 36,
   "metadata": {},
   "outputs": [
    {
     "name": "stdout",
     "output_type": "stream",
     "text": [
      "  Train Data Set::     Test Data Set:\n",
      "01,  290.63750000,     892.31016043\n",
      "02,  234.40282132,     759.31711127\n",
      "03,  199.65817619,     676.58364718\n",
      "04,  181.83389356,     625.18916524\n",
      "05,  171.30504202,     579.35411606\n",
      "06,  156.34222973,     552.05697032\n",
      "07,  147.13182957,     526.13199355\n",
      "08,  140.51212121,     509.71025075\n",
      "09,  132.51361416,     490.06155596\n",
      "10,  125.48961039,     477.42135854\n",
      "11,  121.95983103,     467.10395350\n",
      "12,  116.09700855,     454.08144333\n",
      "13,  107.54333333,     445.10590186\n",
      "14,  105.18333333,     429.48031668\n",
      "15,  100.12900433,     425.95574064\n",
      "16,  97.41785714,     414.29144042\n",
      "17,  93.68500000,     412.36656892\n",
      "18,  89.56253968,     401.65380273\n",
      "19,  86.89090909,     397.29602345\n",
      "20,  81.87642857,     388.18747919\n",
      "21,  78.64809524,     378.16704407\n",
      "22,  75.58186813,     371.12287435\n",
      "23,  73.18333333,     369.25773904\n",
      "24,  66.45476190,     359.13602509\n",
      "25,  65.90072464,     355.79324815\n",
      "26,  62.37500000,     353.48838384\n",
      "27,  56.38245614,     345.45031683\n",
      "28,  56.26666667,     340.19651027\n",
      "29,  52.22857143,     332.12104731\n"
     ]
    }
   ],
   "source": [
    "from sklearn.cluster import KMeans\n",
    "#Finding the optimum number of clusters for k-means classification\n",
    "# n_clusters = Number of centroids to generate\n",
    "# init = k-means++ = select convergence method\n",
    "# max_iter = Maximum number of iterations of the k-means algorithm for a single run.\n",
    "# n_init = 10 = Number of time the k-means algorithm will be run with different centroid seeds. \n",
    "# random_state = 0 = random number generator is the RandomState instance used by np.random\n",
    "# inertia = Sum of squared distances of samples to their closest cluster center\n",
    "# WCSS = Witchin cluster sum of squares\n",
    "wcss_train = []\n",
    "wcss_test = []\n",
    "numcentroidsub=30\n",
    "for i in range(1, numcentroidsub):\n",
    "    kmeans = KMeans(n_clusters = i, init = 'k-means++', max_iter = 300, n_init = 10, random_state = 0)\n",
    "    kmeans.fit(Xtrain)\n",
    "    wcss_train.append(kmeans.inertia_)\n",
    "    #print(i,kmeans.inertia_)\n",
    "print(\"  Train Data Set::     Test Data Set:\")\n",
    "for i in range(1, numcentroidsub):\n",
    "    kmeans = KMeans(n_clusters = i, init = 'k-means++', max_iter = 300, n_init = 10, random_state = 0)\n",
    "    kmeans.fit(Xtest)\n",
    "    wcss_test.append(kmeans.inertia_)\n",
    "    print(\"%02d,  %04.8f,     %04.8f\" %(i,wcss_train[i-1],kmeans.inertia_))"
   ]
  },
  {
   "cell_type": "code",
   "execution_count": 49,
   "metadata": {},
   "outputs": [
    {
     "data": {
      "image/png": "[encoded data removed]",
      "text/plain": [
       "<Figure size 432x288 with 2 Axes>"
      ]
     },
     "metadata": {
      "needs_background": "light"
     },
     "output_type": "display_data"
    }
   ],
   "source": [
    "#Plotting the results onto a line graph, allowing us to observe 'The elbow'\n",
    "f, (ax1, ax2) = plt.subplots(1, 2, sharey=True)\n",
    "ax1.plot(range(1, 6), wcss_train[:5])\n",
    "ax1.set_title('The elbow method')\n",
    "ax1.set_xlabel('Number of clusters') \n",
    "ax1.set_ylabel('WCSS Train Data Set')\n",
    "ax2.plot(range(1, 6), wcss_test[:5])\n",
    "ax2.set_title('The elbow method')\n",
    "ax2.set_xlabel('Number of clusters')\n",
    "ax2.set_ylabel('WCSS Test Data Set')\n",
    "plt.show()"
   ]
  },
  {
   "cell_type": "code",
   "execution_count": 50,
   "metadata": {},
   "outputs": [
    {
     "data": {
      "text/plain": [
       "KMeans(algorithm='auto', copy_x=True, init='k-means++', max_iter=300,\n",
       "    n_clusters=2, n_init=10, n_jobs=1, precompute_distances='auto',\n",
       "    random_state=0, tol=0.0001, verbose=0)"
      ]
     },
     "execution_count": 50,
     "metadata": {},
     "output_type": "execute_result"
    }
   ],
   "source": [
    "# best_n_clusters = 2\n",
    "kmeans = KMeans(n_clusters = 2, init = 'k-means++', max_iter = 300, n_init = 10, random_state = 0)\n",
    "kmeans.fit(Xtrain)"
   ]
  },
  {
   "cell_type": "code",
   "execution_count": 51,
   "metadata": {},
   "outputs": [
    {
     "name": "stdout",
     "output_type": "stream",
     "text": [
      "[[ 5.45454545e-01  4.09090909e-01  6.81818182e-01  5.45454545e-01\n",
      "   4.09090909e-01  1.81818182e-01  6.36363636e-01  5.45454545e-01\n",
      "   5.00000000e-01  4.54545455e-01  3.63636364e-01  6.36363636e-01\n",
      "   7.72727273e-01  5.90909091e-01  1.81818182e-01  5.45454545e-01\n",
      "   3.18181818e-01  2.72727273e-01  3.18181818e-01  4.09090909e-01\n",
      "   6.81818182e-01  6.81818182e-01]\n",
      " [ 2.93103448e-01  6.89655172e-02  1.03448276e-01  8.62068966e-02\n",
      "   2.58620690e-01  1.03448276e-01  1.20689655e-01  1.72413793e-01\n",
      "   6.89655172e-02  2.24137931e-01  1.37931034e-01  1.03448276e-01\n",
      "   1.89655172e-01  5.17241379e-02  3.44827586e-02  3.44827586e-02\n",
      "   1.72413793e-02 -8.32667268e-17  1.37931034e-01  1.55172414e-01\n",
      "   6.89655172e-02  1.89655172e-01]]\n"
     ]
    }
   ],
   "source": [
    "print(kmeans.cluster_centers_) # Centroid ccordinates"
   ]
  },
  {
   "cell_type": "code",
   "execution_count": 52,
   "metadata": {},
   "outputs": [
    {
     "name": "stdout",
     "output_type": "stream",
     "text": [
      "[1 0 1 1 1 0 0 1 0 1 0 0 1 0 0 0 0 1 0 1 0 1 1 1 1 1 0 1 1 0 1 1 0 0 0 0 0\n",
      " 1 1 0 1 1 1 1 1 1 1 1 1 1 1 1 1 1 1 1 1 0 1 1 1 1 1 1 1 1 1 1 1 1 1 1 1 1\n",
      " 1 1 1 1 0 1]\n"
     ]
    }
   ],
   "source": [
    "print(kmeans.labels_) # labels signifying similarity only"
   ]
  },
  {
   "cell_type": "code",
   "execution_count": 62,
   "metadata": {},
   "outputs": [
    {
     "name": "stdout",
     "output_type": "stream",
     "text": [
      "[1 1 1 1 1 1 1 1 1 1 1 1 1 1 1 1 1 1 1 1 1 1 1 1 1 1 1 1 1 1 1 1 1 1 1 1 1\n",
      " 1 1 1 0 0 0 0 0 0 0 0 0 0 0 0 0 0 0 0 0 0 0 0 0 0 0 0 0 0 0 0 0 0 0 0 0 0\n",
      " 0 0 0 0 0 0]\n",
      "[0, 0, 0, 0, 0, 0, 0, 0, 0, 0, 0, 0, 0, 0, 0, 0, 0, 0, 0, 0, 0, 0, 0, 0, 0, 0, 0, 0, 0, 0, 0, 0, 0, 0, 0, 0, 0, 0, 0, 0, 1, 1, 1, 1, 1, 1, 1, 1, 1, 1, 1, 1, 1, 1, 1, 1, 1, 1, 1, 1, 1, 1, 1, 1, 1, 1, 1, 1, 1, 1, 1, 1, 1, 1, 1, 1, 1, 1, 1, 1]\n"
     ]
    }
   ],
   "source": [
    "print(Ytrain)\n",
    "Ytrain =[1 if x==0 else 0 for x in Ytrain ]\n",
    "print(Ytrain)"
   ]
  },
  {
   "cell_type": "code",
   "execution_count": 63,
   "metadata": {},
   "outputs": [
    {
     "name": "stdout",
     "output_type": "stream",
     "text": [
      "[1 1 1 1 1 1 1 1 1 1 1 1 1 1 1 1 1 1 1 1 1 1 1 1 1 1 1 1 1 1 1 1 1 1 1 1 1\n",
      " 1 1 1 1 1 1 1 1 1 1 1 1 1 1 1 1 1 1 1 1 1 1 1 1 1 1 1 1 1 1 1 1 1 1 1 1 1\n",
      " 1 1 1 1 1 1 1 1 1 1 1 1 1 1 1 1 1 1 1 1 1 1 1 1 1 1 1 1 1 1 1 1 1 1 1 1 1\n",
      " 1 1 1 1 1 1 1 1 1 1 1 1 1 1 1 1 1 1 1 1 1 1 1 1 1 1 1 1 1 1 1 1 1 1 1 1 1\n",
      " 1 1 1 1 1 1 1 1 1 1 1 1 1 1 1 1 1 1 1 1 1 1 1 1 0 0 0 0 0 0 0 0 0 0 0 0 0\n",
      " 0 0]\n",
      "[0, 0, 0, 0, 0, 0, 0, 0, 0, 0, 0, 0, 0, 0, 0, 0, 0, 0, 0, 0, 0, 0, 0, 0, 0, 0, 0, 0, 0, 0, 0, 0, 0, 0, 0, 0, 0, 0, 0, 0, 0, 0, 0, 0, 0, 0, 0, 0, 0, 0, 0, 0, 0, 0, 0, 0, 0, 0, 0, 0, 0, 0, 0, 0, 0, 0, 0, 0, 0, 0, 0, 0, 0, 0, 0, 0, 0, 0, 0, 0, 0, 0, 0, 0, 0, 0, 0, 0, 0, 0, 0, 0, 0, 0, 0, 0, 0, 0, 0, 0, 0, 0, 0, 0, 0, 0, 0, 0, 0, 0, 0, 0, 0, 0, 0, 0, 0, 0, 0, 0, 0, 0, 0, 0, 0, 0, 0, 0, 0, 0, 0, 0, 0, 0, 0, 0, 0, 0, 0, 0, 0, 0, 0, 0, 0, 0, 0, 0, 0, 0, 0, 0, 0, 0, 0, 0, 0, 0, 0, 0, 0, 0, 0, 0, 0, 0, 0, 0, 0, 0, 0, 0, 1, 1, 1, 1, 1, 1, 1, 1, 1, 1, 1, 1, 1, 1, 1]\n"
     ]
    }
   ],
   "source": [
    "print(Ytest)\n",
    "Ytest =[1 if x==0 else 0 for x in Ytest]\n",
    "print(Ytest)"
   ]
  },
  {
   "cell_type": "code",
   "execution_count": 64,
   "metadata": {},
   "outputs": [
    {
     "name": "stdout",
     "output_type": "stream",
     "text": [
      "             precision    recall  f1-score   support\n",
      "\n",
      "          0       0.91      0.50      0.65        40\n",
      "          1       0.66      0.95      0.78        40\n",
      "\n",
      "avg / total       0.78      0.72      0.71        80\n",
      "\n"
     ]
    }
   ],
   "source": [
    "from sklearn import metrics\n",
    "print(metrics.classification_report(Ytrain, kmeans.labels_))\n",
    "# 0 = normal\n",
    "# 1 = abnormal\n"
   ]
  },
  {
   "cell_type": "code",
   "execution_count": 65,
   "metadata": {},
   "outputs": [
    {
     "data": {
      "text/plain": [
       "KMeans(algorithm='auto', copy_x=True, init='k-means++', max_iter=300,\n",
       "    n_clusters=2, n_init=10, n_jobs=1, precompute_distances='auto',\n",
       "    random_state=0, tol=0.0001, verbose=0)"
      ]
     },
     "execution_count": 65,
     "metadata": {},
     "output_type": "execute_result"
    }
   ],
   "source": [
    "kmeans.fit(Xtest)"
   ]
  },
  {
   "cell_type": "code",
   "execution_count": 66,
   "metadata": {},
   "outputs": [
    {
     "name": "stdout",
     "output_type": "stream",
     "text": [
      "[[0.35964912 0.12280702 0.24561404 0.15789474 0.3245614  0.1754386\n",
      "  0.13157895 0.33333333 0.22807018 0.3245614  0.16666667 0.14035088\n",
      "  0.39473684 0.22807018 0.07017544 0.1754386  0.11403509 0.09649123\n",
      "  0.1754386  0.16666667 0.22807018 0.33333333]\n",
      " [0.67123288 0.53424658 0.76712329 0.56164384 0.64383562 0.45205479\n",
      "  0.54794521 0.73972603 0.57534247 0.56164384 0.4109589  0.5890411\n",
      "  0.80821918 0.53424658 0.45205479 0.67123288 0.23287671 0.24657534\n",
      "  0.42465753 0.67123288 0.71232877 0.63013699]]\n"
     ]
    }
   ],
   "source": [
    "print(kmeans.cluster_centers_) # Centroid ccordinates"
   ]
  },
  {
   "cell_type": "code",
   "execution_count": 67,
   "metadata": {},
   "outputs": [
    {
     "name": "stdout",
     "output_type": "stream",
     "text": [
      "[1 0 0 1 0 1 1 0 0 1 0 0 0 0 0 0 1 0 0 1 0 1 1 1 0 0 0 1 0 0 1 1 0 0 0 0 0\n",
      " 0 1 1 1 0 1 0 0 0 0 1 0 1 0 0 1 0 0 1 0 0 0 0 1 0 0 1 0 1 0 0 1 1 1 1 1 0\n",
      " 0 1 1 1 1 0 1 1 0 1 1 1 1 1 1 0 0 1 0 0 0 1 0 1 1 1 1 1 0 0 0 0 0 0 0 0 0\n",
      " 0 0 0 0 0 0 0 0 0 0 0 0 1 0 0 0 0 0 1 0 0 1 0 0 1 1 1 1 0 1 1 1 1 1 0 1 1\n",
      " 1 1 0 0 1 1 0 0 0 0 1 1 0 1 1 1 0 0 0 0 0 1 1 0 0 0 0 0 0 0 0 0 0 0 0 0 0\n",
      " 0 0]\n"
     ]
    }
   ],
   "source": [
    "print(kmeans.labels_) # labels signifying similarity only"
   ]
  },
  {
   "cell_type": "code",
   "execution_count": 68,
   "metadata": {},
   "outputs": [
    {
     "name": "stdout",
     "output_type": "stream",
     "text": [
      "             precision    recall  f1-score   support\n",
      "\n",
      "          0       0.87      0.58      0.69       172\n",
      "          1       0.00      0.00      0.00        15\n",
      "\n",
      "avg / total       0.80      0.53      0.64       187\n",
      "\n"
     ]
    }
   ],
   "source": [
    "print(metrics.classification_report(Ytest, kmeans.labels_))"
   ]
  },
  {
   "cell_type": "code",
   "execution_count": null,
   "metadata": {},
   "outputs": [],
   "source": []
  }
 ],
 "metadata": {
  "kernelspec": {
   "display_name": "Python 3",
   "language": "python",
   "name": "python3"
  },
  "language_info": {
   "codemirror_mode": {
    "name": "ipython",
    "version": 3
   },
   "file_extension": ".py",
   "mimetype": "text/x-python",
   "name": "python",
   "nbconvert_exporter": "python",
   "pygments_lexer": "ipython3",
   "version": "3.7.0"
  }
 },
 "nbformat": 4,
 "nbformat_minor": 2
}
