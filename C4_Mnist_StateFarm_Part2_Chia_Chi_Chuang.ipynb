{
 "cells": [
  {
   "cell_type": "markdown",
   "metadata": {},
   "source": [
    "C4 MNIST HW Part 2: PCA images data set, save pca model for further usage\n",
    "\n",
    "Data Source: https://www.kaggle.com/c/state-farm-distracted-driver-detection\n",
    "\n",
    "State Farm Distracted Driver Images\n",
    "\n",
    "10 different labels/categories for each images\n",
    "\n",
    "Each color image is 640*480 22424 images in training dataset\n"
   ]
  },
  {
   "cell_type": "code",
   "execution_count": 1,
   "metadata": {},
   "outputs": [],
   "source": [
    "import pandas as pd\n",
    "import numpy as np\n",
    "import gc\n",
    "import seaborn as sns\n",
    "import matplotlib.pyplot as plt\n",
    "import sklearn.metrics as metrics\n",
    "%matplotlib inline"
   ]
  },
  {
   "cell_type": "code",
   "execution_count": 2,
   "metadata": {},
   "outputs": [],
   "source": [
    "# PIL => Python Imaging Library\n",
    "from PIL import Image"
   ]
  },
  {
   "cell_type": "code",
   "execution_count": 3,
   "metadata": {},
   "outputs": [],
   "source": [
    "import os"
   ]
  },
  {
   "cell_type": "code",
   "execution_count": 4,
   "metadata": {},
   "outputs": [],
   "source": [
    "from sklearn.model_selection import train_test_split"
   ]
  },
  {
   "cell_type": "code",
   "execution_count": 5,
   "metadata": {},
   "outputs": [],
   "source": [
    "def readcsvfile(filename):\n",
    "    file_open=open(filename,'r')\n",
    "    lines_data=[]\n",
    "    for line in iter(file_open):\n",
    "        if 'subject' in line:\n",
    "            continue\n",
    "        line=line.rstrip()\n",
    "        lines_data.append(line.split(','))\n",
    "    return lines_data"
   ]
  },
  {
   "cell_type": "code",
   "execution_count": 6,
   "metadata": {},
   "outputs": [],
   "source": [
    "#'../dataSetImage/stateFarm_distractedDriver_all/imgs/train/c0/img_44733.jpg'\n",
    "def hasThisFile(filename):\n",
    "    return os.path.isfile(filename)"
   ]
  },
  {
   "cell_type": "code",
   "execution_count": 7,
   "metadata": {},
   "outputs": [],
   "source": [
    "def getJPGfileData(filename):\n",
    "    #print(filename)\n",
    "    if hasThisFile(filename):\n",
    "        #print('hasfile')\n",
    "        img=Image.open(filename)\n",
    "        #print(img.size)\n",
    "        img=img.convert('L')\n",
    "        return list(img.getdata())\n",
    "        #print(len(img))\n",
    "        #print(img.size)"
   ]
  },
  {
   "cell_type": "code",
   "execution_count": 8,
   "metadata": {},
   "outputs": [],
   "source": [
    "def getJPGfileDataStr(filename):\n",
    "    if hasThisFile(filename):\n",
    "        img=Image.open(filename)\n",
    "        img=img.convert('L')\n",
    "        tplst=list(img.getdata())\n",
    "        return ','.join(map(str,tplst))"
   ]
  },
  {
   "cell_type": "code",
   "execution_count": 9,
   "metadata": {},
   "outputs": [],
   "source": [
    "# under test imges folders, 79,726 images\n",
    "# under train images folders, 22,424 images\n",
    "#C:\\Users\\Chiachi\\My Class\\Python4ML\\HWnProject\\dataSetImage\\stateFarm_distractedDriver_all\n",
    "dtsinfo=readcsvfile('../dataSetImage/stateFarm_distractedDriver_all/driver_imgs_list.csv')"
   ]
  },
  {
   "cell_type": "code",
   "execution_count": 10,
   "metadata": {},
   "outputs": [],
   "source": [
    "# had tried to 5606 size, still not working on np.array(...)\n",
    "train1, train2 = train_test_split(dtsinfo, test_size=0.95)"
   ]
  },
  {
   "cell_type": "code",
   "execution_count": 12,
   "metadata": {},
   "outputs": [
    {
     "name": "stdout",
     "output_type": "stream",
     "text": [
      "Original Data Set sample size vs train 1 vs train 2:\n",
      "------------------:\n",
      "22424 1121 21303\n",
      "[['p002', 'c0', 'img_44733.jpg'], ['p002', 'c0', 'img_72999.jpg'], ['p002', 'c0', 'img_25094.jpg']]\n"
     ]
    }
   ],
   "source": [
    "print(\"Original Data Set sample size vs train 1 vs train 2:\\n------------------:\")\n",
    "print(len(dtsinfo),len(train1),len(train2))\n",
    "print(dtsinfo[:3])"
   ]
  },
  {
   "cell_type": "code",
   "execution_count": 14,
   "metadata": {},
   "outputs": [
    {
     "name": "stdout",
     "output_type": "stream",
     "text": [
      "[142, 122, 110, 110, 129, 104, 134, 93, 73, 104, 0]\n"
     ]
    }
   ],
   "source": [
    "# list of each labels sample size in train1 data set\n",
    "tpc=[0,0,0,0,0,0,0,0,0,0,0]\n",
    "for x in train1:\n",
    "    i=int(x[1][1])\n",
    "    tpc[i]+=1\n",
    "print(tpc)"
   ]
  },
  {
   "cell_type": "code",
   "execution_count": 15,
   "metadata": {},
   "outputs": [],
   "source": [
    "trainImgFileDir='../dataSetImage/stateFarm_distractedDriver_all/imgs/train/'"
   ]
  },
  {
   "cell_type": "code",
   "execution_count": 16,
   "metadata": {},
   "outputs": [],
   "source": [
    "testImgFileDir='../dataSetImage/stateFarm_distractedDriver_all/imgs/test/'"
   ]
  },
  {
   "cell_type": "code",
   "execution_count": 17,
   "metadata": {},
   "outputs": [],
   "source": [
    "XRawTrain1=[]"
   ]
  },
  {
   "cell_type": "code",
   "execution_count": 18,
   "metadata": {},
   "outputs": [],
   "source": [
    "Ytrain1=[]"
   ]
  },
  {
   "cell_type": "code",
   "execution_count": 19,
   "metadata": {},
   "outputs": [],
   "source": [
    "SubjectTrain1=[]"
   ]
  },
  {
   "cell_type": "code",
   "execution_count": 20,
   "metadata": {},
   "outputs": [],
   "source": [
    "for itm in train1:  \n",
    "    XRawTrain1.append(getJPGfileData(trainImgFileDir+itm[1]+'/'+itm[2]))"
   ]
  },
  {
   "cell_type": "code",
   "execution_count": 21,
   "metadata": {},
   "outputs": [],
   "source": [
    "Xtrain1NP=np.array(XRawTrain1)"
   ]
  },
  {
   "cell_type": "code",
   "execution_count": 22,
   "metadata": {},
   "outputs": [
    {
     "name": "stdout",
     "output_type": "stream",
     "text": [
      "(1121, 307200)\n"
     ]
    }
   ],
   "source": [
    "print(Xtrain1NP.shape)"
   ]
  },
  {
   "cell_type": "code",
   "execution_count": 23,
   "metadata": {},
   "outputs": [
    {
     "data": {
      "text/plain": [
       "0"
      ]
     },
     "execution_count": 23,
     "metadata": {},
     "output_type": "execute_result"
    }
   ],
   "source": [
    "del [[XRawTrain1]]\n",
    "gc.collect()"
   ]
  },
  {
   "cell_type": "code",
   "execution_count": 24,
   "metadata": {},
   "outputs": [],
   "source": [
    "from sklearn.decomposition import PCA"
   ]
  },
  {
   "cell_type": "code",
   "execution_count": 25,
   "metadata": {},
   "outputs": [
    {
     "name": "stdout",
     "output_type": "stream",
     "text": [
      "['pc1', 'pc2', 'pc3']\n"
     ]
    }
   ],
   "source": [
    "#640*480 => 16*12\n",
    "# freeze: 16*12\n",
    "# 4*3, only cover 0.59\n",
    "# 8*6 seems better, 0.775127...\n",
    "# 10*10?, 0.842369\n",
    "# 12*12, 0.8714058080457765\n",
    "testpcsz=12*12\n",
    "colnms=[]\n",
    "for i in range(1,testpcsz+1):\n",
    "    colnms.append('pc'+str(i))\n",
    "print(colnms[:3])"
   ]
  },
  {
   "cell_type": "code",
   "execution_count": 26,
   "metadata": {},
   "outputs": [],
   "source": [
    "pca = PCA(n_components=testpcsz)"
   ]
  },
  {
   "cell_type": "code",
   "execution_count": 27,
   "metadata": {},
   "outputs": [],
   "source": [
    "principalComponents = pca.fit_transform(Xtrain1NP)"
   ]
  },
  {
   "cell_type": "code",
   "execution_count": 28,
   "metadata": {},
   "outputs": [
    {
     "name": "stdout",
     "output_type": "stream",
     "text": [
      "[0.18386806 0.1109155  0.09248646 0.06617043 0.0286103  0.02353063\n",
      " 0.02130963 0.02032362 0.01733533 0.01526659 0.01305765 0.01205586\n",
      " 0.01157718 0.01106823 0.00976837 0.00928621 0.00909898 0.00794821\n",
      " 0.00761247 0.00731967 0.00687491 0.00633913 0.00601527 0.00555999\n",
      " 0.00500538 0.00486402 0.00452077 0.00445889 0.00435075 0.00402212\n",
      " 0.00379251 0.00363475 0.00351623 0.00332765 0.00315913 0.00294825\n",
      " 0.00291903 0.00288763 0.00276924 0.00267501 0.00255198 0.0025103\n",
      " 0.00246725 0.00234047 0.00225692 0.00219463 0.00214573 0.00211553\n",
      " 0.00204214 0.00201227 0.00195361 0.00190866 0.00187676 0.00185268\n",
      " 0.001753   0.0017259  0.00167419 0.00163022 0.0015972  0.0015514\n",
      " 0.00154411 0.00151031 0.00146084 0.00144474 0.00143006 0.00140796\n",
      " 0.00136761 0.00134241 0.00131593 0.00130933 0.00128266 0.00125402\n",
      " 0.00120712 0.00119282 0.00117467 0.00116365 0.00113001 0.00111782\n",
      " 0.00110435 0.00107277 0.00106339 0.00105238 0.00102334 0.0010085\n",
      " 0.00099886 0.00099302 0.00097389 0.00095186 0.00094861 0.00093683\n",
      " 0.00092163 0.00091301 0.00089767 0.0008835  0.00087969 0.00085038\n",
      " 0.00084599 0.00084083 0.00083793 0.00082999 0.00081639 0.00079782\n",
      " 0.00078855 0.00078587 0.00077939 0.0007736  0.00076357 0.00075573\n",
      " 0.00074595 0.00073381 0.00072261 0.00071879 0.00070575 0.0006952\n",
      " 0.00069188 0.0006816  0.00067864 0.00066666 0.00066242 0.00065521\n",
      " 0.00065064 0.00064628 0.00063181 0.00063145 0.00062648 0.00062245\n",
      " 0.00059801 0.0005939  0.00059218 0.00058507 0.0005723  0.00056788\n",
      " 0.00056306 0.00055892 0.00055347 0.00053922 0.00053663 0.00052004\n",
      " 0.00051595 0.00051142 0.00050539 0.00050223 0.00049712 0.0004928 ]\n"
     ]
    }
   ],
   "source": [
    "print(pca.explained_variance_ratio_)"
   ]
  },
  {
   "cell_type": "code",
   "execution_count": 29,
   "metadata": {},
   "outputs": [
    {
     "name": "stdout",
     "output_type": "stream",
     "text": [
      "0.8751295162480821\n"
     ]
    }
   ],
   "source": [
    "cumvar=0.0\n",
    "for x in pca.explained_variance_ratio_:\n",
    "    cumvar+=x\n",
    "print(cumvar)"
   ]
  },
  {
   "cell_type": "code",
   "execution_count": 30,
   "metadata": {},
   "outputs": [
    {
     "name": "stdout",
     "output_type": "stream",
     "text": [
      "(144, 307200)\n"
     ]
    }
   ],
   "source": [
    "print(pca.components_.shape)"
   ]
  },
  {
   "cell_type": "code",
   "execution_count": 31,
   "metadata": {},
   "outputs": [],
   "source": [
    "import pickle"
   ]
  },
  {
   "cell_type": "code",
   "execution_count": 32,
   "metadata": {},
   "outputs": [],
   "source": [
    "# save the model to disk\n",
    "filename = 'sfdd_pca_fv1.pkl'\n",
    "pickle.dump(pca, open(filename, 'wb'))"
   ]
  },
  {
   "cell_type": "code",
   "execution_count": 33,
   "metadata": {},
   "outputs": [],
   "source": [
    "for itm in train1:\n",
    "    Ytrain1.append(int(itm[1][1]))\n",
    "    SubjectTrain1.append(itm[0])"
   ]
  },
  {
   "cell_type": "code",
   "execution_count": 34,
   "metadata": {},
   "outputs": [],
   "source": [
    "Ytrain1NP=np.array(Ytrain1)"
   ]
  },
  {
   "cell_type": "code",
   "execution_count": 35,
   "metadata": {},
   "outputs": [],
   "source": [
    "SubjectTrain1NP=np.array(SubjectTrain1)"
   ]
  },
  {
   "cell_type": "code",
   "execution_count": 36,
   "metadata": {},
   "outputs": [
    {
     "name": "stdout",
     "output_type": "stream",
     "text": [
      "DecisionTreeClassifier(class_weight=None, criterion='gini', max_depth=None,\n",
      "            max_features=None, max_leaf_nodes=None,\n",
      "            min_impurity_decrease=0.0, min_impurity_split=None,\n",
      "            min_samples_leaf=1, min_samples_split=2,\n",
      "            min_weight_fraction_leaf=0.0, presort=False, random_state=None,\n",
      "            splitter='best')\n",
      "             precision    recall  f1-score   support\n",
      "\n",
      "          0       1.00      1.00      1.00       142\n",
      "          1       1.00      1.00      1.00       122\n",
      "          2       1.00      1.00      1.00       110\n",
      "          3       1.00      1.00      1.00       110\n",
      "          4       1.00      1.00      1.00       129\n",
      "          5       1.00      1.00      1.00       104\n",
      "          6       1.00      1.00      1.00       134\n",
      "          7       1.00      1.00      1.00        93\n",
      "          8       1.00      1.00      1.00        73\n",
      "          9       1.00      1.00      1.00       104\n",
      "\n",
      "avg / total       1.00      1.00      1.00      1121\n",
      "\n",
      "[[142   0   0   0   0   0   0   0   0   0]\n",
      " [  0 122   0   0   0   0   0   0   0   0]\n",
      " [  0   0 110   0   0   0   0   0   0   0]\n",
      " [  0   0   0 110   0   0   0   0   0   0]\n",
      " [  0   0   0   0 129   0   0   0   0   0]\n",
      " [  0   0   0   0   0 104   0   0   0   0]\n",
      " [  0   0   0   0   0   0 134   0   0   0]\n",
      " [  0   0   0   0   0   0   0  93   0   0]\n",
      " [  0   0   0   0   0   0   0   0  73   0]\n",
      " [  0   0   0   0   0   0   0   0   0 104]]\n"
     ]
    }
   ],
   "source": [
    "# Decision Tree Classifier\n",
    "from sklearn.tree import DecisionTreeClassifier\n",
    "model = DecisionTreeClassifier()\n",
    "model.fit(principalComponents,Ytrain1NP)\n",
    "print(model)\n",
    "# make predictions\n",
    "expected = Ytrain1NP\n",
    "predicted = model.predict(principalComponents)\n",
    "# summarize the fit of the model\n",
    "print(metrics.classification_report(expected, predicted))\n",
    "print(metrics.confusion_matrix(expected, predicted))\n",
    "cm = metrics.confusion_matrix(expected, predicted)"
   ]
  },
  {
   "cell_type": "code",
   "execution_count": 37,
   "metadata": {},
   "outputs": [],
   "source": [
    "def getTransformedData(filename):\n",
    "    if hasThisFile(filename):\n",
    "        img=Image.open(filename)\n",
    "        img=img.convert('L')\n",
    "        tph=pca.transform([list(img.getdata())])\n",
    "        tph2=list(tph[0]) \n",
    "        return tph2"
   ]
  },
  {
   "cell_type": "code",
   "execution_count": 38,
   "metadata": {},
   "outputs": [
    {
     "data": {
      "text/plain": [
       "0"
      ]
     },
     "execution_count": 38,
     "metadata": {},
     "output_type": "execute_result"
    }
   ],
   "source": [
    "#del [[SubjectTrain1NP,SubjectTrain1,principalComponents,Ytrain1,Ytrain1NP,Xtrain1NP]]\n",
    "#gc.collect()"
   ]
  },
  {
   "cell_type": "code",
   "execution_count": 39,
   "metadata": {},
   "outputs": [],
   "source": [
    "# there are 21303 traing data left , trained by 1121 imges to get pca\n",
    "clsrp=[]\n",
    "cfsrp=[]\n",
    "basetd=train2\n",
    "for i in range(2):\n",
    "    currtd,latertd=train_test_split(basetd, test_size=0.95)\n",
    "    pchld=[]\n",
    "    yhld=[]\n",
    "    for itm in currtd:  \n",
    "        pchld.append(getTransformedData(trainImgFileDir+itm[1]+'/'+itm[2]))\n",
    "        yhld.append(int(itm[1][1]))\n",
    "    pchldNP=np.array(pchld)\n",
    "    yhldNP=np.array(yhld)\n",
    "    # Decision Tree Classifier make predictions\n",
    "    expected = yhldNP\n",
    "    predicted = model.predict(pchldNP)\n",
    "    rp1=metrics.confusion_matrix(expected, predicted)\n",
    "    rp2=metrics.classification_report(expected, predicted)\n",
    "    cfsrp.append(rp1)\n",
    "    clsrp.append(rp2)\n",
    "    del [[currtd,basetd,pchldNP,yhldNP,pchld,yhld,expected,predicted]]\n",
    "    gc.collect()\n",
    "    basetd=latertd"
   ]
  },
  {
   "cell_type": "code",
   "execution_count": 40,
   "metadata": {},
   "outputs": [
    {
     "name": "stdout",
     "output_type": "stream",
     "text": [
      "19227\n"
     ]
    }
   ],
   "source": [
    "print(len(basetd))"
   ]
  },
  {
   "cell_type": "code",
   "execution_count": 41,
   "metadata": {},
   "outputs": [],
   "source": [
    "fif=open('sfdd_train_data_rest_fv1.csv','w')\n",
    "for x in basetd:\n",
    "    fif.write(','.join(x)+'\\n')\n",
    "fif.close() "
   ]
  },
  {
   "cell_type": "code",
   "execution_count": 42,
   "metadata": {},
   "outputs": [
    {
     "name": "stdout",
     "output_type": "stream",
     "text": [
      "[[59 12  4  8  7  2 11  1  5 11]\n",
      " [ 2 58  5  7 10  8  8  2  7  3]\n",
      " [ 7  2 64  8  4  3 10  8  1  5]\n",
      " [ 3  3  2 63  8  1  5  1  3  6]\n",
      " [ 4  7 11 11 58 11  6  7  2  4]\n",
      " [ 7  1  1  1  6 65  9  2  4  1]\n",
      " [ 7 11 12  9 10  6 64  3  6  3]\n",
      " [ 6  3  7  7  5  7  6 39  5  5]\n",
      " [ 3  5  9  8 13  6  8  5 18 12]\n",
      " [ 6  7  4  6  5  6  6  1  5 56]]\n",
      "\n",
      "\n",
      "[[54 10  4  8  5  7  7  3  7 11]\n",
      " [ 6 61  7  3 14  5  6  3  5  4]\n",
      " [ 3  3 67  4  5  2 10  7  7  6]\n",
      " [ 5  7  5 47  5  7  9  1  4  7]\n",
      " [ 5  6  4 12 51  6  4  4  2  3]\n",
      " [ 5  5  4  3  4 53  9  3  0  4]\n",
      " [ 4  9  7  4  7  2 48  5  5  3]\n",
      " [ 4  4  5  6  3  4 10 52  8  7]\n",
      " [ 7  5  4  5 12  9 12  8 21  8]\n",
      " [ 5  7  2 11  4  3  7  3  4 49]]\n"
     ]
    }
   ],
   "source": [
    "print(cfsrp[0])\n",
    "print('\\n')\n",
    "print(cfsrp[1])"
   ]
  },
  {
   "cell_type": "code",
   "execution_count": 43,
   "metadata": {},
   "outputs": [
    {
     "name": "stdout",
     "output_type": "stream",
     "text": [
      "             precision    recall  f1-score   support\n",
      "\n",
      "          0       0.57      0.49      0.53       120\n",
      "          1       0.53      0.53      0.53       110\n",
      "          2       0.54      0.57      0.55       112\n",
      "          3       0.49      0.66      0.57        95\n",
      "          4       0.46      0.48      0.47       121\n",
      "          5       0.57      0.67      0.61        97\n",
      "          6       0.48      0.49      0.48       131\n",
      "          7       0.57      0.43      0.49        90\n",
      "          8       0.32      0.21      0.25        87\n",
      "          9       0.53      0.55      0.54       102\n",
      "\n",
      "avg / total       0.51      0.51      0.51      1065\n",
      "\n",
      "             precision    recall  f1-score   support\n",
      "\n",
      "          0       0.55      0.47      0.50       116\n",
      "          1       0.52      0.54      0.53       114\n",
      "          2       0.61      0.59      0.60       114\n",
      "          3       0.46      0.48      0.47        97\n",
      "          4       0.46      0.53      0.49        97\n",
      "          5       0.54      0.59      0.56        90\n",
      "          6       0.39      0.51      0.44        94\n",
      "          7       0.58      0.50      0.54       103\n",
      "          8       0.33      0.23      0.27        91\n",
      "          9       0.48      0.52      0.50        95\n",
      "\n",
      "avg / total       0.50      0.50      0.50      1011\n",
      "\n"
     ]
    }
   ],
   "source": [
    "print(clsrp[0])\n",
    "print(clsrp[1])"
   ]
  },
  {
   "cell_type": "code",
   "execution_count": null,
   "metadata": {},
   "outputs": [],
   "source": []
  }
 ],
 "metadata": {
  "kernelspec": {
   "display_name": "Python 3",
   "language": "python",
   "name": "python3"
  },
  "language_info": {
   "codemirror_mode": {
    "name": "ipython",
    "version": 3
   },
   "file_extension": ".py",
   "mimetype": "text/x-python",
   "name": "python",
   "nbconvert_exporter": "python",
   "pygments_lexer": "ipython3",
   "version": "3.7.0"
  }
 },
 "nbformat": 4,
 "nbformat_minor": 2
}
