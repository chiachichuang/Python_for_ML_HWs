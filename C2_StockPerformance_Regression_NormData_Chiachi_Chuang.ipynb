{
 "cells": [
  {
   "cell_type": "markdown",
   "metadata": {},
   "source": [
    "\n",
    "Regression with Stock Portfolio Performance data -- UCI dataset -- 63 data rows\n",
    "https://archive.ics.uci.edu/ml/datasets/Stock+portfolio+performance\n",
    "The dataset is mentioned to have missing values\n",
    "1990/9/30-2010/6/30, datasets covers the length of period: 80 quarters (20 years)"
   ]
  },
  {
   "cell_type": "code",
   "execution_count": 1,
   "metadata": {},
   "outputs": [],
   "source": [
    "import pandas as pd\n",
    "import numpy as np\n",
    "import matplotlib.pyplot as plt\n",
    "%matplotlib inline"
   ]
  },
  {
   "cell_type": "code",
   "execution_count": 2,
   "metadata": {},
   "outputs": [],
   "source": [
    "def readFile(filename):\n",
    "    contents=[]\n",
    "    file1=open(filename,'r')\n",
    "    for line in iter(file1):\n",
    "        if \"Annual\" in line:\n",
    "            continue\n",
    "        line=line.strip()\n",
    "        contents.append(line.split(','))\n",
    "    return contents"
   ]
  },
  {
   "cell_type": "code",
   "execution_count": 3,
   "metadata": {},
   "outputs": [],
   "source": [
    "trainDS=readFile('stock_portfolio_performance_prd_all.csv')"
   ]
  },
  {
   "cell_type": "code",
   "execution_count": 4,
   "metadata": {},
   "outputs": [
    {
     "name": "stdout",
     "output_type": "stream",
     "text": [
      "[[1.    0.    0.    0.    0.    0.    0.532]\n",
      " [0.    1.    0.    0.    0.    0.    0.55 ]\n",
      " [0.    0.    1.    0.    0.    0.    0.693]]\n"
     ]
    }
   ],
   "source": [
    "XY=np.array(trainDS)\n",
    "XY=XY[:,1:8]\n",
    "XY= XY.astype(np.float)\n",
    "print(XY[:3])"
   ]
  },
  {
   "cell_type": "code",
   "execution_count": 5,
   "metadata": {},
   "outputs": [],
   "source": [
    "#header1=['Id','Large B/P','Large ROE','Large S/P','Large Return Rate in the last quarter','Large Market Value','Small systematic Risk','Annual Return','Excess Return','Systematic Risk','Total Risk','Abs. Win Rate','Rel. Win Rate']\n",
    "header1=['Large B/P','Large ROE','Large S/P','Large Return Rate in the last quarter','Large Market Value','Small systematic Risk','Annual Return']\n",
    "traindf = pd.DataFrame(XY,columns=header1)"
   ]
  },
  {
   "cell_type": "code",
   "execution_count": 6,
   "metadata": {},
   "outputs": [
    {
     "name": "stdout",
     "output_type": "stream",
     "text": [
      "Dataframe shape:  (63, 7) \n",
      "\n"
     ]
    }
   ],
   "source": [
    "print(\"Dataframe shape: \",traindf.shape,\"\\n\")"
   ]
  },
  {
   "cell_type": "code",
   "execution_count": 7,
   "metadata": {},
   "outputs": [
    {
     "data": {
      "text/html": [
       "<div>\n",
       "<style scoped>\n",
       "    .dataframe tbody tr th:only-of-type {\n",
       "        vertical-align: middle;\n",
       "    }\n",
       "\n",
       "    .dataframe tbody tr th {\n",
       "        vertical-align: top;\n",
       "    }\n",
       "\n",
       "    .dataframe thead th {\n",
       "        text-align: right;\n",
       "    }\n",
       "</style>\n",
       "<table border=\"1\" class=\"dataframe\">\n",
       "  <thead>\n",
       "    <tr style=\"text-align: right;\">\n",
       "      <th></th>\n",
       "      <th>Large B/P</th>\n",
       "      <th>Large ROE</th>\n",
       "      <th>Large S/P</th>\n",
       "      <th>Large Return Rate in the last quarter</th>\n",
       "      <th>Large Market Value</th>\n",
       "      <th>Small systematic Risk</th>\n",
       "      <th>Annual Return</th>\n",
       "    </tr>\n",
       "  </thead>\n",
       "  <tbody>\n",
       "    <tr>\n",
       "      <th>0</th>\n",
       "      <td>1.0</td>\n",
       "      <td>0.0</td>\n",
       "      <td>0.0</td>\n",
       "      <td>0.0</td>\n",
       "      <td>0.0</td>\n",
       "      <td>0.0</td>\n",
       "      <td>0.532</td>\n",
       "    </tr>\n",
       "    <tr>\n",
       "      <th>1</th>\n",
       "      <td>0.0</td>\n",
       "      <td>1.0</td>\n",
       "      <td>0.0</td>\n",
       "      <td>0.0</td>\n",
       "      <td>0.0</td>\n",
       "      <td>0.0</td>\n",
       "      <td>0.550</td>\n",
       "    </tr>\n",
       "    <tr>\n",
       "      <th>2</th>\n",
       "      <td>0.0</td>\n",
       "      <td>0.0</td>\n",
       "      <td>1.0</td>\n",
       "      <td>0.0</td>\n",
       "      <td>0.0</td>\n",
       "      <td>0.0</td>\n",
       "      <td>0.693</td>\n",
       "    </tr>\n",
       "    <tr>\n",
       "      <th>3</th>\n",
       "      <td>0.0</td>\n",
       "      <td>0.0</td>\n",
       "      <td>0.0</td>\n",
       "      <td>1.0</td>\n",
       "      <td>0.0</td>\n",
       "      <td>0.0</td>\n",
       "      <td>0.324</td>\n",
       "    </tr>\n",
       "    <tr>\n",
       "      <th>4</th>\n",
       "      <td>0.0</td>\n",
       "      <td>0.0</td>\n",
       "      <td>0.0</td>\n",
       "      <td>0.0</td>\n",
       "      <td>1.0</td>\n",
       "      <td>0.0</td>\n",
       "      <td>0.327</td>\n",
       "    </tr>\n",
       "  </tbody>\n",
       "</table>\n",
       "</div>"
      ],
      "text/plain": [
       "   Large B/P  Large ROE  Large S/P  Large Return Rate in the last quarter  \\\n",
       "0        1.0        0.0        0.0                                    0.0   \n",
       "1        0.0        1.0        0.0                                    0.0   \n",
       "2        0.0        0.0        1.0                                    0.0   \n",
       "3        0.0        0.0        0.0                                    1.0   \n",
       "4        0.0        0.0        0.0                                    0.0   \n",
       "\n",
       "   Large Market Value  Small systematic Risk  Annual Return  \n",
       "0                 0.0                    0.0          0.532  \n",
       "1                 0.0                    0.0          0.550  \n",
       "2                 0.0                    0.0          0.693  \n",
       "3                 0.0                    0.0          0.324  \n",
       "4                 1.0                    0.0          0.327  "
      ]
     },
     "execution_count": 7,
     "metadata": {},
     "output_type": "execute_result"
    }
   ],
   "source": [
    "traindf.head()"
   ]
  },
  {
   "cell_type": "code",
   "execution_count": 8,
   "metadata": {},
   "outputs": [
    {
     "data": {
      "text/html": [
       "<div>\n",
       "<style scoped>\n",
       "    .dataframe tbody tr th:only-of-type {\n",
       "        vertical-align: middle;\n",
       "    }\n",
       "\n",
       "    .dataframe tbody tr th {\n",
       "        vertical-align: top;\n",
       "    }\n",
       "\n",
       "    .dataframe thead th {\n",
       "        text-align: right;\n",
       "    }\n",
       "</style>\n",
       "<table border=\"1\" class=\"dataframe\">\n",
       "  <thead>\n",
       "    <tr style=\"text-align: right;\">\n",
       "      <th></th>\n",
       "      <th>Large B/P</th>\n",
       "      <th>Large ROE</th>\n",
       "      <th>Large S/P</th>\n",
       "      <th>Large Return Rate in the last quarter</th>\n",
       "      <th>Large Market Value</th>\n",
       "      <th>Small systematic Risk</th>\n",
       "      <th>Annual Return</th>\n",
       "    </tr>\n",
       "  </thead>\n",
       "  <tbody>\n",
       "    <tr>\n",
       "      <th>count</th>\n",
       "      <td>63.000000</td>\n",
       "      <td>63.000000</td>\n",
       "      <td>63.000000</td>\n",
       "      <td>63.000000</td>\n",
       "      <td>63.000000</td>\n",
       "      <td>63.000000</td>\n",
       "      <td>63.000000</td>\n",
       "    </tr>\n",
       "    <tr>\n",
       "      <th>mean</th>\n",
       "      <td>0.166619</td>\n",
       "      <td>0.166619</td>\n",
       "      <td>0.166619</td>\n",
       "      <td>0.166619</td>\n",
       "      <td>0.166619</td>\n",
       "      <td>0.166619</td>\n",
       "      <td>0.580143</td>\n",
       "    </tr>\n",
       "    <tr>\n",
       "      <th>std</th>\n",
       "      <td>0.199304</td>\n",
       "      <td>0.199304</td>\n",
       "      <td>0.199304</td>\n",
       "      <td>0.199304</td>\n",
       "      <td>0.199304</td>\n",
       "      <td>0.199304</td>\n",
       "      <td>0.133384</td>\n",
       "    </tr>\n",
       "    <tr>\n",
       "      <th>min</th>\n",
       "      <td>0.000000</td>\n",
       "      <td>0.000000</td>\n",
       "      <td>0.000000</td>\n",
       "      <td>0.000000</td>\n",
       "      <td>0.000000</td>\n",
       "      <td>0.000000</td>\n",
       "      <td>0.200000</td>\n",
       "    </tr>\n",
       "    <tr>\n",
       "      <th>25%</th>\n",
       "      <td>0.000000</td>\n",
       "      <td>0.000000</td>\n",
       "      <td>0.000000</td>\n",
       "      <td>0.000000</td>\n",
       "      <td>0.000000</td>\n",
       "      <td>0.000000</td>\n",
       "      <td>0.525500</td>\n",
       "    </tr>\n",
       "    <tr>\n",
       "      <th>50%</th>\n",
       "      <td>0.167000</td>\n",
       "      <td>0.167000</td>\n",
       "      <td>0.167000</td>\n",
       "      <td>0.167000</td>\n",
       "      <td>0.167000</td>\n",
       "      <td>0.167000</td>\n",
       "      <td>0.599000</td>\n",
       "    </tr>\n",
       "    <tr>\n",
       "      <th>75%</th>\n",
       "      <td>0.291500</td>\n",
       "      <td>0.291500</td>\n",
       "      <td>0.291500</td>\n",
       "      <td>0.291500</td>\n",
       "      <td>0.291500</td>\n",
       "      <td>0.291500</td>\n",
       "      <td>0.679500</td>\n",
       "    </tr>\n",
       "    <tr>\n",
       "      <th>max</th>\n",
       "      <td>1.000000</td>\n",
       "      <td>1.000000</td>\n",
       "      <td>1.000000</td>\n",
       "      <td>1.000000</td>\n",
       "      <td>1.000000</td>\n",
       "      <td>1.000000</td>\n",
       "      <td>0.800000</td>\n",
       "    </tr>\n",
       "  </tbody>\n",
       "</table>\n",
       "</div>"
      ],
      "text/plain": [
       "       Large B/P  Large ROE  Large S/P  Large Return Rate in the last quarter  \\\n",
       "count  63.000000  63.000000  63.000000                              63.000000   \n",
       "mean    0.166619   0.166619   0.166619                               0.166619   \n",
       "std     0.199304   0.199304   0.199304                               0.199304   \n",
       "min     0.000000   0.000000   0.000000                               0.000000   \n",
       "25%     0.000000   0.000000   0.000000                               0.000000   \n",
       "50%     0.167000   0.167000   0.167000                               0.167000   \n",
       "75%     0.291500   0.291500   0.291500                               0.291500   \n",
       "max     1.000000   1.000000   1.000000                               1.000000   \n",
       "\n",
       "       Large Market Value  Small systematic Risk  Annual Return  \n",
       "count           63.000000              63.000000      63.000000  \n",
       "mean             0.166619               0.166619       0.580143  \n",
       "std              0.199304               0.199304       0.133384  \n",
       "min              0.000000               0.000000       0.200000  \n",
       "25%              0.000000               0.000000       0.525500  \n",
       "50%              0.167000               0.167000       0.599000  \n",
       "75%              0.291500               0.291500       0.679500  \n",
       "max              1.000000               1.000000       0.800000  "
      ]
     },
     "execution_count": 8,
     "metadata": {},
     "output_type": "execute_result"
    }
   ],
   "source": [
    "traindf.describe()"
   ]
  },
  {
   "cell_type": "code",
   "execution_count": 9,
   "metadata": {},
   "outputs": [
    {
     "name": "stdout",
     "output_type": "stream",
     "text": [
      "[[1.    0.    0.    0.    0.    0.    0.532]\n",
      " [0.    1.    0.    0.    0.    0.    0.55 ]\n",
      " [0.    0.    1.    0.    0.    0.    0.693]]\n"
     ]
    }
   ],
   "source": [
    "print(XY[:3])"
   ]
  },
  {
   "cell_type": "code",
   "execution_count": 10,
   "metadata": {},
   "outputs": [],
   "source": [
    "from sklearn import preprocessing"
   ]
  },
  {
   "cell_type": "code",
   "execution_count": 11,
   "metadata": {},
   "outputs": [
    {
     "name": "stderr",
     "output_type": "stream",
     "text": [
      "/home/eagle/anaconda3/lib/python3.6/site-packages/IPython/core/interactiveshell.py:2963: UserWarning: To output multiple subplots, the figure containing the passed axes is being cleared\n",
      "  exec(code_obj, self.user_global_ns, self.user_ns)\n"
     ]
    },
    {
     "data": {
      "text/plain": [
       "array([[<matplotlib.axes._subplots.AxesSubplot object at 0x7fa252a87780>,\n",
       "        <matplotlib.axes._subplots.AxesSubplot object at 0x7fa24f927780>,\n",
       "        <matplotlib.axes._subplots.AxesSubplot object at 0x7fa24f8cfe10>],\n",
       "       [<matplotlib.axes._subplots.AxesSubplot object at 0x7fa24f8844e0>,\n",
       "        <matplotlib.axes._subplots.AxesSubplot object at 0x7fa24f8acb70>,\n",
       "        <matplotlib.axes._subplots.AxesSubplot object at 0x7fa24f8acba8>],\n",
       "       [<matplotlib.axes._subplots.AxesSubplot object at 0x7fa24f8828d0>,\n",
       "        <matplotlib.axes._subplots.AxesSubplot object at 0x7fa24f82bf60>,\n",
       "        <matplotlib.axes._subplots.AxesSubplot object at 0x7fa24f7da630>]],\n",
       "      dtype=object)"
      ]
     },
     "execution_count": 11,
     "metadata": {},
     "output_type": "execute_result"
    },
    {
     "data": {
      "image/png": "[encoded data removed]",
      "text/plain": [
       "<Figure size 1152x864 with 9 Axes>"
      ]
     },
     "metadata": {},
     "output_type": "display_data"
    }
   ],
   "source": [
    "fig = plt.figure(figsize = (16,12))\n",
    "ax = fig.gca()\n",
    "traindf.hist(ax = ax)"
   ]
  },
  {
   "cell_type": "code",
   "execution_count": 12,
   "metadata": {},
   "outputs": [
    {
     "data": {
      "text/html": [
       "<div>\n",
       "<style scoped>\n",
       "    .dataframe tbody tr th:only-of-type {\n",
       "        vertical-align: middle;\n",
       "    }\n",
       "\n",
       "    .dataframe tbody tr th {\n",
       "        vertical-align: top;\n",
       "    }\n",
       "\n",
       "    .dataframe thead th {\n",
       "        text-align: right;\n",
       "    }\n",
       "</style>\n",
       "<table border=\"1\" class=\"dataframe\">\n",
       "  <thead>\n",
       "    <tr style=\"text-align: right;\">\n",
       "      <th></th>\n",
       "      <th>Large B/P</th>\n",
       "      <th>Large ROE</th>\n",
       "      <th>Large S/P</th>\n",
       "      <th>Large Return Rate in the last quarter</th>\n",
       "      <th>Large Market Value</th>\n",
       "      <th>Small systematic Risk</th>\n",
       "      <th>Annual Return</th>\n",
       "    </tr>\n",
       "  </thead>\n",
       "  <tbody>\n",
       "    <tr>\n",
       "      <th>Large B/P</th>\n",
       "      <td>1.000000</td>\n",
       "      <td>-0.200000</td>\n",
       "      <td>-0.200000</td>\n",
       "      <td>-0.200000</td>\n",
       "      <td>-0.200000</td>\n",
       "      <td>-0.200000</td>\n",
       "      <td>0.204098</td>\n",
       "    </tr>\n",
       "    <tr>\n",
       "      <th>Large ROE</th>\n",
       "      <td>-0.200000</td>\n",
       "      <td>1.000000</td>\n",
       "      <td>-0.200000</td>\n",
       "      <td>-0.200000</td>\n",
       "      <td>-0.200000</td>\n",
       "      <td>-0.200000</td>\n",
       "      <td>0.395606</td>\n",
       "    </tr>\n",
       "    <tr>\n",
       "      <th>Large S/P</th>\n",
       "      <td>-0.200000</td>\n",
       "      <td>-0.200000</td>\n",
       "      <td>1.000000</td>\n",
       "      <td>-0.200000</td>\n",
       "      <td>-0.200000</td>\n",
       "      <td>-0.200000</td>\n",
       "      <td>0.432417</td>\n",
       "    </tr>\n",
       "    <tr>\n",
       "      <th>Large Return Rate in the last quarter</th>\n",
       "      <td>-0.200000</td>\n",
       "      <td>-0.200000</td>\n",
       "      <td>-0.200000</td>\n",
       "      <td>1.000000</td>\n",
       "      <td>-0.200000</td>\n",
       "      <td>-0.200000</td>\n",
       "      <td>-0.205472</td>\n",
       "    </tr>\n",
       "    <tr>\n",
       "      <th>Large Market Value</th>\n",
       "      <td>-0.200000</td>\n",
       "      <td>-0.200000</td>\n",
       "      <td>-0.200000</td>\n",
       "      <td>-0.200000</td>\n",
       "      <td>1.000000</td>\n",
       "      <td>-0.200000</td>\n",
       "      <td>-0.444733</td>\n",
       "    </tr>\n",
       "    <tr>\n",
       "      <th>Small systematic Risk</th>\n",
       "      <td>-0.200000</td>\n",
       "      <td>-0.200000</td>\n",
       "      <td>-0.200000</td>\n",
       "      <td>-0.200000</td>\n",
       "      <td>-0.200000</td>\n",
       "      <td>1.000000</td>\n",
       "      <td>-0.381853</td>\n",
       "    </tr>\n",
       "    <tr>\n",
       "      <th>Annual Return</th>\n",
       "      <td>0.204098</td>\n",
       "      <td>0.395606</td>\n",
       "      <td>0.432417</td>\n",
       "      <td>-0.205472</td>\n",
       "      <td>-0.444733</td>\n",
       "      <td>-0.381853</td>\n",
       "      <td>1.000000</td>\n",
       "    </tr>\n",
       "  </tbody>\n",
       "</table>\n",
       "</div>"
      ],
      "text/plain": [
       "                                       Large B/P  Large ROE  Large S/P  \\\n",
       "Large B/P                               1.000000  -0.200000  -0.200000   \n",
       "Large ROE                              -0.200000   1.000000  -0.200000   \n",
       "Large S/P                              -0.200000  -0.200000   1.000000   \n",
       "Large Return Rate in the last quarter  -0.200000  -0.200000  -0.200000   \n",
       "Large Market Value                     -0.200000  -0.200000  -0.200000   \n",
       "Small systematic Risk                  -0.200000  -0.200000  -0.200000   \n",
       "Annual Return                           0.204098   0.395606   0.432417   \n",
       "\n",
       "                                       Large Return Rate in the last quarter  \\\n",
       "Large B/P                                                          -0.200000   \n",
       "Large ROE                                                          -0.200000   \n",
       "Large S/P                                                          -0.200000   \n",
       "Large Return Rate in the last quarter                               1.000000   \n",
       "Large Market Value                                                 -0.200000   \n",
       "Small systematic Risk                                              -0.200000   \n",
       "Annual Return                                                      -0.205472   \n",
       "\n",
       "                                       Large Market Value  \\\n",
       "Large B/P                                       -0.200000   \n",
       "Large ROE                                       -0.200000   \n",
       "Large S/P                                       -0.200000   \n",
       "Large Return Rate in the last quarter           -0.200000   \n",
       "Large Market Value                               1.000000   \n",
       "Small systematic Risk                           -0.200000   \n",
       "Annual Return                                   -0.444733   \n",
       "\n",
       "                                       Small systematic Risk  Annual Return  \n",
       "Large B/P                                          -0.200000       0.204098  \n",
       "Large ROE                                          -0.200000       0.395606  \n",
       "Large S/P                                          -0.200000       0.432417  \n",
       "Large Return Rate in the last quarter              -0.200000      -0.205472  \n",
       "Large Market Value                                 -0.200000      -0.444733  \n",
       "Small systematic Risk                               1.000000      -0.381853  \n",
       "Annual Return                                      -0.381853       1.000000  "
      ]
     },
     "execution_count": 12,
     "metadata": {},
     "output_type": "execute_result"
    }
   ],
   "source": [
    "traindf.corr()"
   ]
  },
  {
   "cell_type": "code",
   "execution_count": 13,
   "metadata": {},
   "outputs": [],
   "source": [
    "def correlation_matrix(df):\n",
    "    from matplotlib import pyplot as plt\n",
    "    from matplotlib import cm as cm\n",
    "\n",
    "    fig = plt.figure(figsize=(16,12))\n",
    "    ax1 = fig.add_subplot(111)\n",
    "    cmap = cm.get_cmap('jet', 90)\n",
    "    #labels = [\"m\",\"mpg\",\"cylinders\",\"displacement\",\"horsepower\",\"weight\",\"acceleration\",\"year\"]\n",
    "    labels=header1.copy()\n",
    "    labels[4]=\"Large Rtrn(LQ)\"\n",
    "    cax = ax1.imshow(df.corr(), interpolation=\"nearest\", cmap=cmap)\n",
    "    ax1.grid(True)\n",
    "    ax1.set_xticklabels(labels,fontsize=8)\n",
    "    ax1.set_yticklabels(labels,fontsize=12)\n",
    "    # Add colorbar, make sure to specify tick locations to match desired ticklabels\n",
    "    fig.colorbar(cax, ticks=[.75,.8,.85,.90,.95,1])\n",
    "    plt.show()"
   ]
  },
  {
   "cell_type": "code",
   "execution_count": 14,
   "metadata": {},
   "outputs": [
    {
     "data": {
      "image/png": "[encoded data removed]",
      "text/plain": [
       "<Figure size 1152x864 with 2 Axes>"
      ]
     },
     "metadata": {},
     "output_type": "display_data"
    }
   ],
   "source": [
    "correlation_matrix(traindf)"
   ]
  },
  {
   "cell_type": "code",
   "execution_count": 15,
   "metadata": {},
   "outputs": [],
   "source": [
    "X = traindf.drop('Annual Return',axis=1)\n",
    "y = traindf['Annual Return']"
   ]
  },
  {
   "cell_type": "code",
   "execution_count": 16,
   "metadata": {},
   "outputs": [
    {
     "name": "stdout",
     "output_type": "stream",
     "text": [
      "X_train shape:  (47, 6)\n",
      "y_train shape:  (47,)\n",
      "X_test shape:  (16, 6)\n",
      "y_test shape:  (16,)\n"
     ]
    }
   ],
   "source": [
    "# Split data to training and test\n",
    "from sklearn.model_selection import train_test_split\n",
    "# Split X and y into train and test data set .75 vs .25\n",
    "X_train, X_test, y_train, y_test = train_test_split(X, y, test_size=0.25, random_state=1)\n",
    "print(\"X_train shape: \",X_train.shape)\n",
    "print(\"y_train shape: \",y_train.shape)\n",
    "print(\"X_test shape: \",X_test.shape)\n",
    "print(\"y_test shape: \",y_test.shape)"
   ]
  },
  {
   "cell_type": "code",
   "execution_count": 17,
   "metadata": {},
   "outputs": [
    {
     "name": "stdout",
     "output_type": "stream",
     "text": [
      "dict_keys(['Linear_Regression', 'Ridge', 'Lasso', 'LassoLars', 'BayesianRidge'])\n"
     ]
    }
   ],
   "source": [
    "import math\n",
    "from sklearn.metrics import mean_squared_error\n",
    "from sklearn.linear_model import LinearRegression\n",
    "from sklearn.linear_model import Ridge\n",
    "from sklearn.linear_model import Lasso\n",
    "from sklearn.linear_model import LassoLars\n",
    "from sklearn.linear_model import BayesianRidge\n",
    "\n",
    "# Next line is \"dictionary\" data structure from class 1\n",
    "d_models = {\"Linear_Regression\": LinearRegression(),\n",
    "            \"Ridge\": Ridge(alpha=0.5),\n",
    "            \"Lasso\": Lasso(alpha=0.1),\n",
    "            \"LassoLars\": LassoLars(alpha=0.1),\n",
    "            \"BayesianRidge\": BayesianRidge()}\n",
    "models_list = d_models.keys()\n",
    "print(models_list)"
   ]
  },
  {
   "cell_type": "code",
   "execution_count": 18,
   "metadata": {},
   "outputs": [
    {
     "name": "stdout",
     "output_type": "stream",
     "text": [
      "Linear_Regression   0.06938236233438116\n",
      "Ridge   0.06380473050915468\n",
      "Lasso   0.11558522901952739\n",
      "LassoLars   0.11558522901952739\n",
      "BayesianRidge   0.06550088127274618\n"
     ]
    }
   ],
   "source": [
    "for regression_model in models_list:\n",
    "    regressor = d_models[regression_model]\n",
    "    regressor.fit(X_train,y_train)\n",
    "    y_predict = regressor.predict(X_test)\n",
    "    regression_model_mse = mean_squared_error(y_predict, y_test)\n",
    "    print(regression_model,\" \",math.sqrt(regression_model_mse))"
   ]
  },
  {
   "cell_type": "code",
   "execution_count": 19,
   "metadata": {},
   "outputs": [
    {
     "name": "stdout",
     "output_type": "stream",
     "text": [
      "0.572893325215775\n",
      "[ 0.1002434   0.2011385   0.26298039 -0.12341376 -0.2340001  -0.20586436]\n",
      "Number of coefficients is  6\n"
     ]
    }
   ],
   "source": [
    "# Training model\n",
    "from sklearn.linear_model import BayesianRidge\n",
    "lm = BayesianRidge()\n",
    "lm.fit(X_train, y_train)\n",
    "print(lm.intercept_)\n",
    "print(lm.coef_)\n",
    "print (\"Number of coefficients is \",len(lm.coef_))"
   ]
  },
  {
   "cell_type": "code",
   "execution_count": 20,
   "metadata": {},
   "outputs": [
    {
     "name": "stdout",
     "output_type": "stream",
     "text": [
      "0.06550088127274618\n"
     ]
    }
   ],
   "source": [
    "import math\n",
    "from sklearn.metrics import mean_squared_error\n",
    "y_predict = lm.predict(X_test)\n",
    "regression_model_mse = mean_squared_error(y_predict, y_test)\n",
    "print(math.sqrt(regression_model_mse))"
   ]
  },
  {
   "cell_type": "code",
   "execution_count": null,
   "metadata": {},
   "outputs": [],
   "source": []
  },
  {
   "cell_type": "code",
   "execution_count": null,
   "metadata": {},
   "outputs": [],
   "source": []
  },
  {
   "cell_type": "code",
   "execution_count": null,
   "metadata": {},
   "outputs": [],
   "source": []
  },
  {
   "cell_type": "code",
   "execution_count": null,
   "metadata": {},
   "outputs": [],
   "source": []
  }
 ],
 "metadata": {
  "kernelspec": {
   "display_name": "Python 3",
   "language": "python",
   "name": "python3"
  },
  "language_info": {
   "codemirror_mode": {
    "name": "ipython",
    "version": 3
   },
   "file_extension": ".py",
   "mimetype": "text/x-python",
   "name": "python",
   "nbconvert_exporter": "python",
   "pygments_lexer": "ipython3",
   "version": "3.6.5"
  }
 },
 "nbformat": 4,
 "nbformat_minor": 2
}
